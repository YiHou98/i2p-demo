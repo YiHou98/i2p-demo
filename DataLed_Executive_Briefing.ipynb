{
 "cells": [
  {
   "cell_type": "code",
   "execution_count": 21,
   "metadata": {},
   "outputs": [],
   "source": [
    "# Set download URL\n",
    "url = 'http://data.insideairbnb.com/united-kingdom/england/london/2020-11-06/data/listings.csv.gz'\n",
    "\n",
    "# your code here\n",
    "import pandas as pd\n",
    "\n",
    "cols = ['id','listing_url','name','price','description','neighborhood_overview','host_id','host_about',\n",
    "        'latitude','longitude','property_type','room_type','accommodates',\n",
    "        'bathrooms','bathrooms_text','bedrooms','beds','amenities']\n",
    "df = pd.read_csv(url, compression='gzip', usecols=cols, low_memory=False)\n",
    "df['price'] = df.price.str.replace('$','').str.replace(',','').astype(float)"
   ]
  },
  {
   "cell_type": "code",
   "execution_count": 22,
   "metadata": {},
   "outputs": [
    {
     "name": "stdout",
     "output_type": "stream",
     "text": [
      "Data frame is 76984 x 18\n"
     ]
    }
   ],
   "source": [
    "print(f\"Data frame is {df.shape[0]} x {df.shape[1]}\")"
   ]
  },
  {
   "cell_type": "code",
   "execution_count": 24,
   "metadata": {},
   "outputs": [
    {
     "name": "stdout",
     "output_type": "stream",
     "text": [
      "(76984, 18)\n"
     ]
    }
   ],
   "source": [
    "df.drop(df[((df.latitude.isna())|(df.longitude.isna()))].index, axis=0, inplace=True)\n",
    "print(df.shape)"
   ]
  },
  {
   "cell_type": "code",
   "execution_count": 25,
   "metadata": {},
   "outputs": [
    {
     "name": "stdout",
     "output_type": "stream",
     "text": [
      "(73931, 18)\n"
     ]
    }
   ],
   "source": [
    "df.drop(index=df[(df.description.isna())|(df.amenities.isna())|(df.price.isna())].index, inplace=True)\n",
    "print(df.shape)"
   ]
  },
  {
   "cell_type": "code",
   "execution_count": null,
   "metadata": {},
   "outputs": [],
   "source": []
  }
 ],
 "metadata": {
  "kernelspec": {
   "display_name": "Python 3",
   "language": "python",
   "name": "python3"
  },
  "language_info": {
   "codemirror_mode": {
    "name": "ipython",
    "version": 3
   },
   "file_extension": ".py",
   "mimetype": "text/x-python",
   "name": "python",
   "nbconvert_exporter": "python",
   "pygments_lexer": "ipython3",
   "version": "3.7.8"
  }
 },
 "nbformat": 4,
 "nbformat_minor": 4
}
