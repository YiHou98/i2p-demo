{
 "cells": [
  {
   "cell_type": "code",
   "execution_count": 66,
   "metadata": {},
   "outputs": [
    {
     "name": "stdout",
     "output_type": "stream",
     "text": [
      "<class 'pandas.core.frame.DataFrame'>\n",
      "RangeIndex: 152 entries, 0 to 151\n",
      "Data columns (total 28 columns):\n",
      " #   Column                Non-Null Count  Dtype \n",
      "---  ------                --------------  ----- \n",
      " 0   local_authority_area  152 non-null    object\n",
      " 1   2008_cases_total      152 non-null    int64 \n",
      " 2   2013_cases_total      152 non-null    int64 \n",
      " 3   2018_cases_total      152 non-null    int64 \n",
      " 4   2008_pop_total        152 non-null    int64 \n",
      " 5   2013_pop_total        152 non-null    int64 \n",
      " 6   2018_pop_total        152 non-null    int64 \n",
      " 7   2008_cases_male       152 non-null    int64 \n",
      " 8   2013_cases_male       152 non-null    int64 \n",
      " 9   2018_cases_male       152 non-null    int64 \n",
      " 10  2008_pop_male         152 non-null    int64 \n",
      " 11  2013_pop_male         152 non-null    int64 \n",
      " 12  2018_pop_male         152 non-null    int64 \n",
      " 13  2008_cases_female     152 non-null    int64 \n",
      " 14  2013_cases_female     152 non-null    int64 \n",
      " 15  2018_cases_female     152 non-null    int64 \n",
      " 16  2008_pop_female       152 non-null    int64 \n",
      " 17  2013_pop_female       152 non-null    int64 \n",
      " 18  2018_pop_female       152 non-null    int64 \n",
      " 19  total_budget          152 non-null    int64 \n",
      " 20  clean_air             152 non-null    int64 \n",
      " 21  clean_environ         152 non-null    int64 \n",
      " 22  health_training       152 non-null    int64 \n",
      " 23  school_awareness      152 non-null    int64 \n",
      " 24  media_awareness       152 non-null    int64 \n",
      " 25  sub_counselling       152 non-null    int64 \n",
      " 26  region                152 non-null    object\n",
      " 27  local_authority_type  152 non-null    object\n",
      "dtypes: int64(25), object(3)\n",
      "memory usage: 33.4+ KB\n"
     ]
    }
   ],
   "source": [
    "# Before inputing the csv, I have changed the local_anthority_type of london to 'london_borough'\n",
    "import pandas as pd\n",
    "import matplotlib.pyplot as plt\n",
    "import numpy as np\n",
    "import statsmodels.api as sms\n",
    "import os\n",
    "os.chdir('/home/jovyan/work/QM/')\n",
    "df = pd.read_csv('coursework_1_data_2019.csv', low_memory = False)\n",
    "df.info()"
   ]
  },
  {
   "cell_type": "code",
   "execution_count": 67,
   "metadata": {},
   "outputs": [],
   "source": [
    "#create new variable: Casechange_2013, Casechange_2018 and the per person budget in six areas in 2008 and 2013\n",
    "\n",
    "df['Casechange2013'] = ((df['2013_cases_total']/df['2013_pop_total']) - (df['2008_cases_total']/df['2008_pop_total']))/(df['2008_cases_total']/df['2008_pop_total'])\n",
    "df['Casechange2018'] = ((df['2018_cases_total']/df['2018_pop_total']) - (df['2013_cases_total']/df['2013_pop_total']))/(df['2013_cases_total']/df['2013_pop_total'])\n",
    "df['Cleanair1'] = df['clean_air']/df['2008_pop_total']\n",
    "df['Cleanenv1'] = df['clean_environ']/df['2008_pop_total']\n",
    "df['Healthtrain1'] = df['health_training']/df['2008_pop_total']\n",
    "df['Schoolaware1'] = df['school_awareness']/df['2008_pop_total']\n",
    "df['Mediaaware1'] = df['media_awareness']/df['2008_pop_total']\n",
    "df['Subcounsel1'] = df['sub_counselling']/df['2008_pop_total']\n",
    "df['Cleanair2'] = df['clean_air']/df['2013_pop_total']\n",
    "df['Cleanenv2'] = df['clean_environ']/df['2013_pop_total']\n",
    "df['Healthtrain2'] = df['health_training']/df['2013_pop_total']\n",
    "df['Schoolaware2'] = df['school_awareness']/df['2013_pop_total']\n",
    "df['Mediaaware2'] = df['media_awareness']/df['2013_pop_total']\n",
    "df['Subcounsel2'] = df['sub_counselling']/df['2013_pop_total']"
   ]
  },
  {
   "cell_type": "code",
   "execution_count": 68,
   "metadata": {},
   "outputs": [
    {
     "data": {
      "text/plain": [
       "count    152.000000\n",
       "mean       0.043413\n",
       "std        0.088698\n",
       "min       -0.815514\n",
       "25%        0.011961\n",
       "50%        0.039593\n",
       "75%        0.076445\n",
       "max        0.278623\n",
       "Name: Casechange2013, dtype: float64"
      ]
     },
     "execution_count": 68,
     "metadata": {},
     "output_type": "execute_result"
    }
   ],
   "source": [
    "#describe new variables and compare them\n",
    "df['Casechange2013'].describe()"
   ]
  },
  {
   "cell_type": "code",
   "execution_count": 69,
   "metadata": {},
   "outputs": [
    {
     "data": {
      "text/plain": [
       "count    152.000000\n",
       "mean       0.103903\n",
       "std        0.244896\n",
       "min       -0.217322\n",
       "25%        0.029613\n",
       "50%        0.070794\n",
       "75%        0.122929\n",
       "max        2.909836\n",
       "Name: Casechange2018, dtype: float64"
      ]
     },
     "execution_count": 69,
     "metadata": {},
     "output_type": "execute_result"
    }
   ],
   "source": [
    "df['Casechange2018'].describe()"
   ]
  },
  {
   "cell_type": "code",
   "execution_count": 70,
   "metadata": {},
   "outputs": [],
   "source": [
    "%matplotlib inline\n",
    "import matplotlib.pyplot as plt"
   ]
  },
  {
   "cell_type": "code",
   "execution_count": 71,
   "metadata": {},
   "outputs": [
    {
     "data": {
      "image/png": "[encoded data removed]",
      "text/plain": [
       "<Figure size 432x288 with 1 Axes>"
      ]
     },
     "metadata": {
      "needs_background": "light"
     },
     "output_type": "display_data"
    }
   ],
   "source": [
    "figure_width, figure_height = 6,4\n",
    "plt.figure(figsize=(figure_width,figure_height))\n",
    "df['Casechange2013'].plot.hist() # histogram\n",
    "plt.savefig('histagram_2013.png')"
   ]
  },
  {
   "cell_type": "code",
   "execution_count": 72,
   "metadata": {},
   "outputs": [
    {
     "data": {
      "image/png": "[encoded data removed]",
      "text/plain": [
       "<Figure size 432x288 with 1 Axes>"
      ]
     },
     "metadata": {
      "needs_background": "light"
     },
     "output_type": "display_data"
    }
   ],
   "source": [
    "figure_width, figure_height = 6,4\n",
    "plt.figure(figsize=(figure_width,figure_height))\n",
    "df['Casechange2018'].plot.hist() # histogram\n",
    "plt.savefig('histagram_2018.png')"
   ]
  },
  {
   "cell_type": "code",
   "execution_count": 73,
   "metadata": {},
   "outputs": [
    {
     "data": {
      "image/png": "[encoded data removed]",
      "text/plain": [
       "<Figure size 432x288 with 1 Axes>"
      ]
     },
     "metadata": {
      "needs_background": "light"
     },
     "output_type": "display_data"
    }
   ],
   "source": [
    "figure_width, figure_height = 6,4\n",
    "plt.figure(figsize=(figure_width,figure_height))\n",
    "df['Casechange2013'].plot.box() # boxplot\n",
    "plt.savefig('box_plot_1.png')"
   ]
  },
  {
   "cell_type": "code",
   "execution_count": 74,
   "metadata": {},
   "outputs": [
    {
     "data": {
      "image/png": "[encoded data removed]",
      "text/plain": [
       "<Figure size 432x288 with 1 Axes>"
      ]
     },
     "metadata": {
      "needs_background": "light"
     },
     "output_type": "display_data"
    }
   ],
   "source": [
    "figure_width, figure_height = 6,4\n",
    "plt.figure(figsize=(figure_width,figure_height))\n",
    "df['Casechange2018'].plot.box() # boxplot\n",
    "plt.savefig('box_plot_2.png')"
   ]
  },
  {
   "cell_type": "code",
   "execution_count": 75,
   "metadata": {},
   "outputs": [],
   "source": [
    "#delete the outlier 'Isles of Scilly'\n",
    "df.drop([59],inplace = True)"
   ]
  },
  {
   "cell_type": "code",
   "execution_count": 76,
   "metadata": {},
   "outputs": [
    {
     "name": "stdout",
     "output_type": "stream",
     "text": [
      "Ttest_relResult(statistic=-4.67154060609338, pvalue=6.593613093028499e-06)\n"
     ]
    }
   ],
   "source": [
    "# t-Test for two related samples\n",
    "from scipy.stats import ttest_rel\n",
    "print(ttest_rel(df['Casechange2013'],df['Casechange2018']))\n",
    "#the result suggests H0 is rejected "
   ]
  },
  {
   "cell_type": "code",
   "execution_count": 77,
   "metadata": {},
   "outputs": [
    {
     "data": {
      "text/html": [
       "<div>\n",
       "<style scoped>\n",
       "    .dataframe tbody tr th:only-of-type {\n",
       "        vertical-align: middle;\n",
       "    }\n",
       "\n",
       "    .dataframe tbody tr th {\n",
       "        vertical-align: top;\n",
       "    }\n",
       "\n",
       "    .dataframe thead th {\n",
       "        text-align: right;\n",
       "    }\n",
       "</style>\n",
       "<table border=\"1\" class=\"dataframe\">\n",
       "  <thead>\n",
       "    <tr style=\"text-align: right;\">\n",
       "      <th></th>\n",
       "      <th>london_borough</th>\n",
       "      <th>metropolitan_borough</th>\n",
       "      <th>non_metropolitan_county</th>\n",
       "      <th>unitary_authority</th>\n",
       "    </tr>\n",
       "  </thead>\n",
       "  <tbody>\n",
       "    <tr>\n",
       "      <th>0</th>\n",
       "      <td>1</td>\n",
       "      <td>0</td>\n",
       "      <td>0</td>\n",
       "      <td>0</td>\n",
       "    </tr>\n",
       "    <tr>\n",
       "      <th>1</th>\n",
       "      <td>1</td>\n",
       "      <td>0</td>\n",
       "      <td>0</td>\n",
       "      <td>0</td>\n",
       "    </tr>\n",
       "    <tr>\n",
       "      <th>2</th>\n",
       "      <td>0</td>\n",
       "      <td>1</td>\n",
       "      <td>0</td>\n",
       "      <td>0</td>\n",
       "    </tr>\n",
       "    <tr>\n",
       "      <th>3</th>\n",
       "      <td>0</td>\n",
       "      <td>0</td>\n",
       "      <td>0</td>\n",
       "      <td>1</td>\n",
       "    </tr>\n",
       "    <tr>\n",
       "      <th>4</th>\n",
       "      <td>0</td>\n",
       "      <td>0</td>\n",
       "      <td>0</td>\n",
       "      <td>1</td>\n",
       "    </tr>\n",
       "    <tr>\n",
       "      <th>...</th>\n",
       "      <td>...</td>\n",
       "      <td>...</td>\n",
       "      <td>...</td>\n",
       "      <td>...</td>\n",
       "    </tr>\n",
       "    <tr>\n",
       "      <th>147</th>\n",
       "      <td>0</td>\n",
       "      <td>1</td>\n",
       "      <td>0</td>\n",
       "      <td>0</td>\n",
       "    </tr>\n",
       "    <tr>\n",
       "      <th>148</th>\n",
       "      <td>0</td>\n",
       "      <td>0</td>\n",
       "      <td>0</td>\n",
       "      <td>1</td>\n",
       "    </tr>\n",
       "    <tr>\n",
       "      <th>149</th>\n",
       "      <td>0</td>\n",
       "      <td>1</td>\n",
       "      <td>0</td>\n",
       "      <td>0</td>\n",
       "    </tr>\n",
       "    <tr>\n",
       "      <th>150</th>\n",
       "      <td>0</td>\n",
       "      <td>0</td>\n",
       "      <td>1</td>\n",
       "      <td>0</td>\n",
       "    </tr>\n",
       "    <tr>\n",
       "      <th>151</th>\n",
       "      <td>0</td>\n",
       "      <td>0</td>\n",
       "      <td>0</td>\n",
       "      <td>1</td>\n",
       "    </tr>\n",
       "  </tbody>\n",
       "</table>\n",
       "<p>151 rows × 4 columns</p>\n",
       "</div>"
      ],
      "text/plain": [
       "     london_borough  metropolitan_borough  non_metropolitan_county  \\\n",
       "0                 1                     0                        0   \n",
       "1                 1                     0                        0   \n",
       "2                 0                     1                        0   \n",
       "3                 0                     0                        0   \n",
       "4                 0                     0                        0   \n",
       "..              ...                   ...                      ...   \n",
       "147               0                     1                        0   \n",
       "148               0                     0                        0   \n",
       "149               0                     1                        0   \n",
       "150               0                     0                        1   \n",
       "151               0                     0                        0   \n",
       "\n",
       "     unitary_authority  \n",
       "0                    0  \n",
       "1                    0  \n",
       "2                    0  \n",
       "3                    1  \n",
       "4                    1  \n",
       "..                 ...  \n",
       "147                  0  \n",
       "148                  1  \n",
       "149                  0  \n",
       "150                  0  \n",
       "151                  1  \n",
       "\n",
       "[151 rows x 4 columns]"
      ]
     },
     "execution_count": 77,
     "metadata": {},
     "output_type": "execute_result"
    }
   ],
   "source": [
    "#create dummies\n",
    "dummies = pd.get_dummies(df['local_authority_type'],prefix = None,prefix_sep = \"_\",dummy_na = False,columns = None,drop_first =False)\n",
    "dummies"
   ]
  },
  {
   "cell_type": "code",
   "execution_count": 78,
   "metadata": {},
   "outputs": [],
   "source": [
    "#choose london_borough, metropolitan_borough and non_metropolitan_country as dummy variables \n",
    "#and combine them with original dataframe\n",
    "df['Londonbor'] = dummies['london_borough']\n",
    "df['Metrobor'] = dummies['metropolitan_borough']\n",
    "df['Nonmetrocounty'] = dummies['non_metropolitan_county']"
   ]
  },
  {
   "cell_type": "code",
   "execution_count": 79,
   "metadata": {},
   "outputs": [],
   "source": [
    "df1 = df[['Cleanair1','Cleanenv1','Healthtrain1','Schoolaware1','Mediaaware1','Subcounsel1','Londonbor','Metrobor','Nonmetrocounty']]"
   ]
  },
  {
   "cell_type": "code",
   "execution_count": 80,
   "metadata": {},
   "outputs": [],
   "source": [
    "# There are so many independent variables and we should check if there is multicollinearity \n",
    "# calculating VIF\n",
    "from statsmodels.stats.outliers_influence import variance_inflation_factor \n",
    "from statsmodels.tools.tools import add_constant\n",
    "\n",
    "def drop_column_using_vif_(df, thresh=5):\n",
    "    while True:\n",
    "        # adding a constatnt item to the data\n",
    "        df_with_const = add_constant(df)\n",
    "\n",
    "        vif_df = pd.Series([variance_inflation_factor(df_with_const.values, i) \n",
    "               for i in range(df_with_const.shape[1])], name= \"VIF\",\n",
    "              index=df_with_const.columns).to_frame()\n",
    "\n",
    "        # drop the const\n",
    "        vif_df = vif_df.drop('const')\n",
    "        \n",
    "        # if the largest VIF is above the thresh, remove a variable with the largest VIF\n",
    "        if vif_df.VIF.max() > thresh:\n",
    "            # If there are multiple variables with the maximum VIF, choose the first one\n",
    "            index_to_drop = vif_df.index[vif_df.VIF == vif_df.VIF.max()].tolist()[0]\n",
    "            print('Dropping: {}'.format(index_to_drop))\n",
    "            df = df.drop(columns = index_to_drop)\n",
    "        else:\n",
    "            # No VIF is above threshold. Exit the loop\n",
    "            break\n",
    "\n",
    "    return df"
   ]
  },
  {
   "cell_type": "code",
   "execution_count": 81,
   "metadata": {},
   "outputs": [
    {
     "name": "stdout",
     "output_type": "stream",
     "text": [
      "The columns remaining after VIF selection are:\n",
      "Index(['Cleanair1', 'Cleanenv1', 'Healthtrain1', 'Schoolaware1', 'Mediaaware1',\n",
      "       'Subcounsel1', 'Londonbor', 'Metrobor', 'Nonmetrocounty'],\n",
      "      dtype='object')\n"
     ]
    }
   ],
   "source": [
    "df_predictors_selected_VIF = drop_column_using_vif_(df1, thresh=5)\n",
    "df_predictors_selected_VIF\n",
    "print(\"The columns remaining after VIF selection are:\")\n",
    "print(df_predictors_selected_VIF.columns)"
   ]
  },
  {
   "cell_type": "code",
   "execution_count": 82,
   "metadata": {},
   "outputs": [
    {
     "data": {
      "text/html": [
       "<table class=\"simpletable\">\n",
       "<caption>OLS Regression Results</caption>\n",
       "<tr>\n",
       "  <th>Dep. Variable:</th>     <td>Casechange2013</td>  <th>  R-squared:         </th> <td>   0.277</td>\n",
       "</tr>\n",
       "<tr>\n",
       "  <th>Model:</th>                   <td>OLS</td>       <th>  Adj. R-squared:    </th> <td>   0.231</td>\n",
       "</tr>\n",
       "<tr>\n",
       "  <th>Method:</th>             <td>Least Squares</td>  <th>  F-statistic:       </th> <td>   5.997</td>\n",
       "</tr>\n",
       "<tr>\n",
       "  <th>Date:</th>             <td>Sun, 15 Nov 2020</td> <th>  Prob (F-statistic):</th> <td>4.28e-07</td>\n",
       "</tr>\n",
       "<tr>\n",
       "  <th>Time:</th>                 <td>14:16:40</td>     <th>  Log-Likelihood:    </th> <td>  250.09</td>\n",
       "</tr>\n",
       "<tr>\n",
       "  <th>No. Observations:</th>      <td>   151</td>      <th>  AIC:               </th> <td>  -480.2</td>\n",
       "</tr>\n",
       "<tr>\n",
       "  <th>Df Residuals:</th>          <td>   141</td>      <th>  BIC:               </th> <td>  -450.0</td>\n",
       "</tr>\n",
       "<tr>\n",
       "  <th>Df Model:</th>              <td>     9</td>      <th>                     </th>     <td> </td>   \n",
       "</tr>\n",
       "<tr>\n",
       "  <th>Covariance Type:</th>      <td>nonrobust</td>    <th>                     </th>     <td> </td>   \n",
       "</tr>\n",
       "</table>\n",
       "<table class=\"simpletable\">\n",
       "<tr>\n",
       "         <td></td>           <th>coef</th>     <th>std err</th>      <th>t</th>      <th>P>|t|</th>  <th>[0.025</th>    <th>0.975]</th>  \n",
       "</tr>\n",
       "<tr>\n",
       "  <th>const</th>          <td>    0.0286</td> <td>    0.018</td> <td>    1.594</td> <td> 0.113</td> <td>   -0.007</td> <td>    0.064</td>\n",
       "</tr>\n",
       "<tr>\n",
       "  <th>Cleanair1</th>      <td>    0.0701</td> <td>    0.049</td> <td>    1.427</td> <td> 0.156</td> <td>   -0.027</td> <td>    0.167</td>\n",
       "</tr>\n",
       "<tr>\n",
       "  <th>Cleanenv1</th>      <td>   -0.0180</td> <td>    0.047</td> <td>   -0.384</td> <td> 0.702</td> <td>   -0.111</td> <td>    0.075</td>\n",
       "</tr>\n",
       "<tr>\n",
       "  <th>Healthtrain1</th>   <td>    0.0296</td> <td>    0.108</td> <td>    0.274</td> <td> 0.785</td> <td>   -0.184</td> <td>    0.243</td>\n",
       "</tr>\n",
       "<tr>\n",
       "  <th>Schoolaware1</th>   <td>   -0.1048</td> <td>    0.040</td> <td>   -2.618</td> <td> 0.010</td> <td>   -0.184</td> <td>   -0.026</td>\n",
       "</tr>\n",
       "<tr>\n",
       "  <th>Mediaaware1</th>    <td>    0.1387</td> <td>    0.092</td> <td>    1.513</td> <td> 0.133</td> <td>   -0.043</td> <td>    0.320</td>\n",
       "</tr>\n",
       "<tr>\n",
       "  <th>Subcounsel1</th>    <td>    0.0237</td> <td>    0.153</td> <td>    0.155</td> <td> 0.877</td> <td>   -0.279</td> <td>    0.327</td>\n",
       "</tr>\n",
       "<tr>\n",
       "  <th>Londonbor</th>      <td>    0.0614</td> <td>    0.011</td> <td>    5.740</td> <td> 0.000</td> <td>    0.040</td> <td>    0.083</td>\n",
       "</tr>\n",
       "<tr>\n",
       "  <th>Metrobor</th>       <td>    0.0222</td> <td>    0.010</td> <td>    2.139</td> <td> 0.034</td> <td>    0.002</td> <td>    0.043</td>\n",
       "</tr>\n",
       "<tr>\n",
       "  <th>Nonmetrocounty</th> <td>   -0.0218</td> <td>    0.011</td> <td>   -1.928</td> <td> 0.056</td> <td>   -0.044</td> <td>    0.001</td>\n",
       "</tr>\n",
       "</table>\n",
       "<table class=\"simpletable\">\n",
       "<tr>\n",
       "  <th>Omnibus:</th>       <td>30.293</td> <th>  Durbin-Watson:     </th> <td>   2.039</td>\n",
       "</tr>\n",
       "<tr>\n",
       "  <th>Prob(Omnibus):</th> <td> 0.000</td> <th>  Jarque-Bera (JB):  </th> <td>  49.442</td>\n",
       "</tr>\n",
       "<tr>\n",
       "  <th>Skew:</th>          <td> 0.994</td> <th>  Prob(JB):          </th> <td>1.84e-11</td>\n",
       "</tr>\n",
       "<tr>\n",
       "  <th>Kurtosis:</th>      <td> 4.976</td> <th>  Cond. No.          </th> <td>    44.9</td>\n",
       "</tr>\n",
       "</table><br/><br/>Notes:<br/>[1] Standard Errors assume that the covariance matrix of the errors is correctly specified."
      ],
      "text/plain": [
       "<class 'statsmodels.iolib.summary.Summary'>\n",
       "\"\"\"\n",
       "                            OLS Regression Results                            \n",
       "==============================================================================\n",
       "Dep. Variable:         Casechange2013   R-squared:                       0.277\n",
       "Model:                            OLS   Adj. R-squared:                  0.231\n",
       "Method:                 Least Squares   F-statistic:                     5.997\n",
       "Date:                Sun, 15 Nov 2020   Prob (F-statistic):           4.28e-07\n",
       "Time:                        14:16:40   Log-Likelihood:                 250.09\n",
       "No. Observations:                 151   AIC:                            -480.2\n",
       "Df Residuals:                     141   BIC:                            -450.0\n",
       "Df Model:                           9                                         \n",
       "Covariance Type:            nonrobust                                         \n",
       "==================================================================================\n",
       "                     coef    std err          t      P>|t|      [0.025      0.975]\n",
       "----------------------------------------------------------------------------------\n",
       "const              0.0286      0.018      1.594      0.113      -0.007       0.064\n",
       "Cleanair1          0.0701      0.049      1.427      0.156      -0.027       0.167\n",
       "Cleanenv1         -0.0180      0.047     -0.384      0.702      -0.111       0.075\n",
       "Healthtrain1       0.0296      0.108      0.274      0.785      -0.184       0.243\n",
       "Schoolaware1      -0.1048      0.040     -2.618      0.010      -0.184      -0.026\n",
       "Mediaaware1        0.1387      0.092      1.513      0.133      -0.043       0.320\n",
       "Subcounsel1        0.0237      0.153      0.155      0.877      -0.279       0.327\n",
       "Londonbor          0.0614      0.011      5.740      0.000       0.040       0.083\n",
       "Metrobor           0.0222      0.010      2.139      0.034       0.002       0.043\n",
       "Nonmetrocounty    -0.0218      0.011     -1.928      0.056      -0.044       0.001\n",
       "==============================================================================\n",
       "Omnibus:                       30.293   Durbin-Watson:                   2.039\n",
       "Prob(Omnibus):                  0.000   Jarque-Bera (JB):               49.442\n",
       "Skew:                           0.994   Prob(JB):                     1.84e-11\n",
       "Kurtosis:                       4.976   Cond. No.                         44.9\n",
       "==============================================================================\n",
       "\n",
       "Notes:\n",
       "[1] Standard Errors assume that the covariance matrix of the errors is correctly specified.\n",
       "\"\"\""
      ]
     },
     "execution_count": 82,
     "metadata": {},
     "output_type": "execute_result"
    }
   ],
   "source": [
    "#the result above shows no variable is removed, so we will put all these variables into function\n",
    "#model1 \n",
    "model1 = sms.OLS(endog=df['Casechange2013'], exog=sms.add_constant(df_predictors_selected_VIF)).fit()\n",
    "model1.summary()"
   ]
  },
  {
   "cell_type": "code",
   "execution_count": 83,
   "metadata": {},
   "outputs": [
    {
     "data": {
      "image/png": "[encoded data removed]",
      "text/plain": [
       "<Figure size 432x288 with 1 Axes>"
      ]
     },
     "metadata": {
      "needs_background": "light"
     },
     "output_type": "display_data"
    }
   ],
   "source": [
    "# residual analysis\n",
    "%matplotlib inline\n",
    "plt.figure(figsize=(6,4))\n",
    "plt.scatter(model1.fittedvalues, model1.resid)\n",
    "plt.xlabel('Fitted Casechange2013')\n",
    "plt.ylabel('Residual')\n",
    "plt.savefig('Residual_analysis12013_update.png')"
   ]
  },
  {
   "cell_type": "code",
   "execution_count": 84,
   "metadata": {},
   "outputs": [
    {
     "data": {
      "text/html": [
       "<table class=\"simpletable\">\n",
       "<caption>OLS Regression Results</caption>\n",
       "<tr>\n",
       "  <th>Dep. Variable:</th>     <td>Casechange2013</td>  <th>  R-squared:         </th> <td>   0.237</td>\n",
       "</tr>\n",
       "<tr>\n",
       "  <th>Model:</th>                   <td>OLS</td>       <th>  Adj. R-squared:    </th> <td>   0.222</td>\n",
       "</tr>\n",
       "<tr>\n",
       "  <th>Method:</th>             <td>Least Squares</td>  <th>  F-statistic:       </th> <td>   15.25</td>\n",
       "</tr>\n",
       "<tr>\n",
       "  <th>Date:</th>             <td>Sun, 15 Nov 2020</td> <th>  Prob (F-statistic):</th> <td>1.08e-08</td>\n",
       "</tr>\n",
       "<tr>\n",
       "  <th>Time:</th>                 <td>14:16:49</td>     <th>  Log-Likelihood:    </th> <td>  246.08</td>\n",
       "</tr>\n",
       "<tr>\n",
       "  <th>No. Observations:</th>      <td>   151</td>      <th>  AIC:               </th> <td>  -484.2</td>\n",
       "</tr>\n",
       "<tr>\n",
       "  <th>Df Residuals:</th>          <td>   147</td>      <th>  BIC:               </th> <td>  -472.1</td>\n",
       "</tr>\n",
       "<tr>\n",
       "  <th>Df Model:</th>              <td>     3</td>      <th>                     </th>     <td> </td>   \n",
       "</tr>\n",
       "<tr>\n",
       "  <th>Covariance Type:</th>      <td>nonrobust</td>    <th>                     </th>     <td> </td>   \n",
       "</tr>\n",
       "</table>\n",
       "<table class=\"simpletable\">\n",
       "<tr>\n",
       "        <td></td>          <th>coef</th>     <th>std err</th>      <th>t</th>      <th>P>|t|</th>  <th>[0.025</th>    <th>0.975]</th>  \n",
       "</tr>\n",
       "<tr>\n",
       "  <th>const</th>        <td>    0.0409</td> <td>    0.007</td> <td>    5.602</td> <td> 0.000</td> <td>    0.027</td> <td>    0.055</td>\n",
       "</tr>\n",
       "<tr>\n",
       "  <th>Londonbor</th>    <td>    0.0664</td> <td>    0.010</td> <td>    6.588</td> <td> 0.000</td> <td>    0.046</td> <td>    0.086</td>\n",
       "</tr>\n",
       "<tr>\n",
       "  <th>Metrobor</th>     <td>    0.0269</td> <td>    0.010</td> <td>    2.799</td> <td> 0.006</td> <td>    0.008</td> <td>    0.046</td>\n",
       "</tr>\n",
       "<tr>\n",
       "  <th>Schoolaware1</th> <td>   -0.0649</td> <td>    0.028</td> <td>   -2.347</td> <td> 0.020</td> <td>   -0.120</td> <td>   -0.010</td>\n",
       "</tr>\n",
       "</table>\n",
       "<table class=\"simpletable\">\n",
       "<tr>\n",
       "  <th>Omnibus:</th>       <td>28.626</td> <th>  Durbin-Watson:     </th> <td>   2.066</td>\n",
       "</tr>\n",
       "<tr>\n",
       "  <th>Prob(Omnibus):</th> <td> 0.000</td> <th>  Jarque-Bera (JB):  </th> <td>  42.200</td>\n",
       "</tr>\n",
       "<tr>\n",
       "  <th>Skew:</th>          <td> 1.003</td> <th>  Prob(JB):          </th> <td>6.86e-10</td>\n",
       "</tr>\n",
       "<tr>\n",
       "  <th>Kurtosis:</th>      <td> 4.639</td> <th>  Cond. No.          </th> <td>    7.75</td>\n",
       "</tr>\n",
       "</table><br/><br/>Notes:<br/>[1] Standard Errors assume that the covariance matrix of the errors is correctly specified."
      ],
      "text/plain": [
       "<class 'statsmodels.iolib.summary.Summary'>\n",
       "\"\"\"\n",
       "                            OLS Regression Results                            \n",
       "==============================================================================\n",
       "Dep. Variable:         Casechange2013   R-squared:                       0.237\n",
       "Model:                            OLS   Adj. R-squared:                  0.222\n",
       "Method:                 Least Squares   F-statistic:                     15.25\n",
       "Date:                Sun, 15 Nov 2020   Prob (F-statistic):           1.08e-08\n",
       "Time:                        14:16:49   Log-Likelihood:                 246.08\n",
       "No. Observations:                 151   AIC:                            -484.2\n",
       "Df Residuals:                     147   BIC:                            -472.1\n",
       "Df Model:                           3                                         \n",
       "Covariance Type:            nonrobust                                         \n",
       "================================================================================\n",
       "                   coef    std err          t      P>|t|      [0.025      0.975]\n",
       "--------------------------------------------------------------------------------\n",
       "const            0.0409      0.007      5.602      0.000       0.027       0.055\n",
       "Londonbor        0.0664      0.010      6.588      0.000       0.046       0.086\n",
       "Metrobor         0.0269      0.010      2.799      0.006       0.008       0.046\n",
       "Schoolaware1    -0.0649      0.028     -2.347      0.020      -0.120      -0.010\n",
       "==============================================================================\n",
       "Omnibus:                       28.626   Durbin-Watson:                   2.066\n",
       "Prob(Omnibus):                  0.000   Jarque-Bera (JB):               42.200\n",
       "Skew:                           1.003   Prob(JB):                     6.86e-10\n",
       "Kurtosis:                       4.639   Cond. No.                         7.75\n",
       "==============================================================================\n",
       "\n",
       "Notes:\n",
       "[1] Standard Errors assume that the covariance matrix of the errors is correctly specified.\n",
       "\"\"\""
      ]
     },
     "execution_count": 84,
     "metadata": {},
     "output_type": "execute_result"
    }
   ],
   "source": [
    "#stepwise regression\n",
    "model1_stepwise = sms.OLS(endog=df['Casechange2013'], exog=sms.add_constant(df[['Londonbor','Metrobor','Schoolaware1']])).fit()\n",
    "model1_stepwise.summary()"
   ]
  },
  {
   "cell_type": "code",
   "execution_count": 85,
   "metadata": {},
   "outputs": [],
   "source": [
    "df2 = df[['Cleanair2','Cleanenv2','Healthtrain2','Schoolaware2','Mediaaware2','Subcounsel2','Londonbor','Metrobor','Nonmetrocounty']]"
   ]
  },
  {
   "cell_type": "code",
   "execution_count": 86,
   "metadata": {},
   "outputs": [
    {
     "name": "stdout",
     "output_type": "stream",
     "text": [
      "The columns remaining after VIF selection are:\n",
      "Index(['Cleanair2', 'Cleanenv2', 'Healthtrain2', 'Schoolaware2', 'Mediaaware2',\n",
      "       'Subcounsel2', 'Londonbor', 'Metrobor', 'Nonmetrocounty'],\n",
      "      dtype='object')\n"
     ]
    }
   ],
   "source": [
    "#collinearity diagnostics\n",
    "df_predictors_selected_VIF = drop_column_using_vif_(df2, thresh=5)\n",
    "print(\"The columns remaining after VIF selection are:\")\n",
    "print(df_predictors_selected_VIF.columns)"
   ]
  },
  {
   "cell_type": "code",
   "execution_count": 87,
   "metadata": {},
   "outputs": [
    {
     "data": {
      "text/html": [
       "<table class=\"simpletable\">\n",
       "<caption>OLS Regression Results</caption>\n",
       "<tr>\n",
       "  <th>Dep. Variable:</th>     <td>Casechange2018</td>  <th>  R-squared:         </th> <td>   0.427</td>\n",
       "</tr>\n",
       "<tr>\n",
       "  <th>Model:</th>                   <td>OLS</td>       <th>  Adj. R-squared:    </th> <td>   0.390</td>\n",
       "</tr>\n",
       "<tr>\n",
       "  <th>Method:</th>             <td>Least Squares</td>  <th>  F-statistic:       </th> <td>   11.68</td>\n",
       "</tr>\n",
       "<tr>\n",
       "  <th>Date:</th>             <td>Sun, 15 Nov 2020</td> <th>  Prob (F-statistic):</th> <td>1.36e-13</td>\n",
       "</tr>\n",
       "<tr>\n",
       "  <th>Time:</th>                 <td>14:21:49</td>     <th>  Log-Likelihood:    </th> <td>  197.32</td>\n",
       "</tr>\n",
       "<tr>\n",
       "  <th>No. Observations:</th>      <td>   151</td>      <th>  AIC:               </th> <td>  -374.6</td>\n",
       "</tr>\n",
       "<tr>\n",
       "  <th>Df Residuals:</th>          <td>   141</td>      <th>  BIC:               </th> <td>  -344.5</td>\n",
       "</tr>\n",
       "<tr>\n",
       "  <th>Df Model:</th>              <td>     9</td>      <th>                     </th>     <td> </td>   \n",
       "</tr>\n",
       "<tr>\n",
       "  <th>Covariance Type:</th>      <td>nonrobust</td>    <th>                     </th>     <td> </td>   \n",
       "</tr>\n",
       "</table>\n",
       "<table class=\"simpletable\">\n",
       "<tr>\n",
       "         <td></td>           <th>coef</th>     <th>std err</th>      <th>t</th>      <th>P>|t|</th>  <th>[0.025</th>    <th>0.975]</th>  \n",
       "</tr>\n",
       "<tr>\n",
       "  <th>const</th>          <td>    0.0441</td> <td>    0.024</td> <td>    1.874</td> <td> 0.063</td> <td>   -0.002</td> <td>    0.091</td>\n",
       "</tr>\n",
       "<tr>\n",
       "  <th>Cleanair2</th>      <td>   -0.0541</td> <td>    0.071</td> <td>   -0.759</td> <td> 0.449</td> <td>   -0.195</td> <td>    0.087</td>\n",
       "</tr>\n",
       "<tr>\n",
       "  <th>Cleanenv2</th>      <td>    0.0504</td> <td>    0.067</td> <td>    0.753</td> <td> 0.453</td> <td>   -0.082</td> <td>    0.183</td>\n",
       "</tr>\n",
       "<tr>\n",
       "  <th>Healthtrain2</th>   <td>    0.0595</td> <td>    0.158</td> <td>    0.376</td> <td> 0.707</td> <td>   -0.253</td> <td>    0.372</td>\n",
       "</tr>\n",
       "<tr>\n",
       "  <th>Schoolaware2</th>   <td>   -0.1231</td> <td>    0.057</td> <td>   -2.162</td> <td> 0.032</td> <td>   -0.236</td> <td>   -0.011</td>\n",
       "</tr>\n",
       "<tr>\n",
       "  <th>Mediaaware2</th>    <td>    0.2333</td> <td>    0.134</td> <td>    1.742</td> <td> 0.084</td> <td>   -0.031</td> <td>    0.498</td>\n",
       "</tr>\n",
       "<tr>\n",
       "  <th>Subcounsel2</th>    <td>   -0.0122</td> <td>    0.219</td> <td>   -0.055</td> <td> 0.956</td> <td>   -0.445</td> <td>    0.421</td>\n",
       "</tr>\n",
       "<tr>\n",
       "  <th>Londonbor</th>      <td>    0.1398</td> <td>    0.015</td> <td>    9.167</td> <td> 0.000</td> <td>    0.110</td> <td>    0.170</td>\n",
       "</tr>\n",
       "<tr>\n",
       "  <th>Metrobor</th>       <td>    0.0336</td> <td>    0.015</td> <td>    2.277</td> <td> 0.024</td> <td>    0.004</td> <td>    0.063</td>\n",
       "</tr>\n",
       "<tr>\n",
       "  <th>Nonmetrocounty</th> <td>   -0.0003</td> <td>    0.016</td> <td>   -0.020</td> <td> 0.984</td> <td>   -0.032</td> <td>    0.031</td>\n",
       "</tr>\n",
       "</table>\n",
       "<table class=\"simpletable\">\n",
       "<tr>\n",
       "  <th>Omnibus:</th>       <td> 7.768</td> <th>  Durbin-Watson:     </th> <td>   1.839</td>\n",
       "</tr>\n",
       "<tr>\n",
       "  <th>Prob(Omnibus):</th> <td> 0.021</td> <th>  Jarque-Bera (JB):  </th> <td>  14.033</td>\n",
       "</tr>\n",
       "<tr>\n",
       "  <th>Skew:</th>          <td> 0.111</td> <th>  Prob(JB):          </th> <td>0.000897</td>\n",
       "</tr>\n",
       "<tr>\n",
       "  <th>Kurtosis:</th>      <td> 4.477</td> <th>  Cond. No.          </th> <td>    45.1</td>\n",
       "</tr>\n",
       "</table><br/><br/>Notes:<br/>[1] Standard Errors assume that the covariance matrix of the errors is correctly specified."
      ],
      "text/plain": [
       "<class 'statsmodels.iolib.summary.Summary'>\n",
       "\"\"\"\n",
       "                            OLS Regression Results                            \n",
       "==============================================================================\n",
       "Dep. Variable:         Casechange2018   R-squared:                       0.427\n",
       "Model:                            OLS   Adj. R-squared:                  0.390\n",
       "Method:                 Least Squares   F-statistic:                     11.68\n",
       "Date:                Sun, 15 Nov 2020   Prob (F-statistic):           1.36e-13\n",
       "Time:                        14:21:49   Log-Likelihood:                 197.32\n",
       "No. Observations:                 151   AIC:                            -374.6\n",
       "Df Residuals:                     141   BIC:                            -344.5\n",
       "Df Model:                           9                                         \n",
       "Covariance Type:            nonrobust                                         \n",
       "==================================================================================\n",
       "                     coef    std err          t      P>|t|      [0.025      0.975]\n",
       "----------------------------------------------------------------------------------\n",
       "const              0.0441      0.024      1.874      0.063      -0.002       0.091\n",
       "Cleanair2         -0.0541      0.071     -0.759      0.449      -0.195       0.087\n",
       "Cleanenv2          0.0504      0.067      0.753      0.453      -0.082       0.183\n",
       "Healthtrain2       0.0595      0.158      0.376      0.707      -0.253       0.372\n",
       "Schoolaware2      -0.1231      0.057     -2.162      0.032      -0.236      -0.011\n",
       "Mediaaware2        0.2333      0.134      1.742      0.084      -0.031       0.498\n",
       "Subcounsel2       -0.0122      0.219     -0.055      0.956      -0.445       0.421\n",
       "Londonbor          0.1398      0.015      9.167      0.000       0.110       0.170\n",
       "Metrobor           0.0336      0.015      2.277      0.024       0.004       0.063\n",
       "Nonmetrocounty    -0.0003      0.016     -0.020      0.984      -0.032       0.031\n",
       "==============================================================================\n",
       "Omnibus:                        7.768   Durbin-Watson:                   1.839\n",
       "Prob(Omnibus):                  0.021   Jarque-Bera (JB):               14.033\n",
       "Skew:                           0.111   Prob(JB):                     0.000897\n",
       "Kurtosis:                       4.477   Cond. No.                         45.1\n",
       "==============================================================================\n",
       "\n",
       "Notes:\n",
       "[1] Standard Errors assume that the covariance matrix of the errors is correctly specified.\n",
       "\"\"\""
      ]
     },
     "execution_count": 87,
     "metadata": {},
     "output_type": "execute_result"
    }
   ],
   "source": [
    "# we will put all these variables into function\n",
    "#model2 \n",
    "model2 = sms.OLS(endog=df['Casechange2018'], exog=sms.add_constant(df_predictors_selected_VIF)).fit()\n",
    "model2.summary()"
   ]
  },
  {
   "cell_type": "code",
   "execution_count": 88,
   "metadata": {},
   "outputs": [
    {
     "data": {
      "image/png": "[encoded data removed]",
      "text/plain": [
       "<Figure size 432x288 with 1 Axes>"
      ]
     },
     "metadata": {
      "needs_background": "light"
     },
     "output_type": "display_data"
    }
   ],
   "source": [
    "# residual analysis\n",
    "figure_width, figure_height = 6,4\n",
    "plt.figure(figsize=(figure_width,figure_height))\n",
    "plt.scatter(model2.fittedvalues, model2.resid)\n",
    "plt.xlabel('Fitted Casechange2018')\n",
    "plt.ylabel('Residual')\n",
    "plt.savefig('Residual_analysis22018_update.png')"
   ]
  },
  {
   "cell_type": "code",
   "execution_count": 89,
   "metadata": {},
   "outputs": [
    {
     "data": {
      "text/html": [
       "<table class=\"simpletable\">\n",
       "<caption>OLS Regression Results</caption>\n",
       "<tr>\n",
       "  <th>Dep. Variable:</th>     <td>Casechange2018</td>  <th>  R-squared:         </th> <td>   0.409</td>\n",
       "</tr>\n",
       "<tr>\n",
       "  <th>Model:</th>                   <td>OLS</td>       <th>  Adj. R-squared:    </th> <td>   0.397</td>\n",
       "</tr>\n",
       "<tr>\n",
       "  <th>Method:</th>             <td>Least Squares</td>  <th>  F-statistic:       </th> <td>   33.97</td>\n",
       "</tr>\n",
       "<tr>\n",
       "  <th>Date:</th>             <td>Sun, 15 Nov 2020</td> <th>  Prob (F-statistic):</th> <td>9.72e-17</td>\n",
       "</tr>\n",
       "<tr>\n",
       "  <th>Time:</th>                 <td>14:21:54</td>     <th>  Log-Likelihood:    </th> <td>  195.03</td>\n",
       "</tr>\n",
       "<tr>\n",
       "  <th>No. Observations:</th>      <td>   151</td>      <th>  AIC:               </th> <td>  -382.1</td>\n",
       "</tr>\n",
       "<tr>\n",
       "  <th>Df Residuals:</th>          <td>   147</td>      <th>  BIC:               </th> <td>  -370.0</td>\n",
       "</tr>\n",
       "<tr>\n",
       "  <th>Df Model:</th>              <td>     3</td>      <th>                     </th>     <td> </td>   \n",
       "</tr>\n",
       "<tr>\n",
       "  <th>Covariance Type:</th>      <td>nonrobust</td>    <th>                     </th>     <td> </td>   \n",
       "</tr>\n",
       "</table>\n",
       "<table class=\"simpletable\">\n",
       "<tr>\n",
       "        <td></td>          <th>coef</th>     <th>std err</th>      <th>t</th>      <th>P>|t|</th>  <th>[0.025</th>    <th>0.975]</th>  \n",
       "</tr>\n",
       "<tr>\n",
       "  <th>const</th>        <td>    0.0673</td> <td>    0.010</td> <td>    7.057</td> <td> 0.000</td> <td>    0.048</td> <td>    0.086</td>\n",
       "</tr>\n",
       "<tr>\n",
       "  <th>Londonbor</th>    <td>    0.1418</td> <td>    0.014</td> <td>   10.007</td> <td> 0.000</td> <td>    0.114</td> <td>    0.170</td>\n",
       "</tr>\n",
       "<tr>\n",
       "  <th>Metrobor</th>     <td>    0.0350</td> <td>    0.013</td> <td>    2.598</td> <td> 0.010</td> <td>    0.008</td> <td>    0.062</td>\n",
       "</tr>\n",
       "<tr>\n",
       "  <th>Schoolaware2</th> <td>   -0.1099</td> <td>    0.034</td> <td>   -3.224</td> <td> 0.002</td> <td>   -0.177</td> <td>   -0.043</td>\n",
       "</tr>\n",
       "</table>\n",
       "<table class=\"simpletable\">\n",
       "<tr>\n",
       "  <th>Omnibus:</th>       <td>10.191</td> <th>  Durbin-Watson:     </th> <td>   1.843</td>\n",
       "</tr>\n",
       "<tr>\n",
       "  <th>Prob(Omnibus):</th> <td> 0.006</td> <th>  Jarque-Bera (JB):  </th> <td>  20.330</td>\n",
       "</tr>\n",
       "<tr>\n",
       "  <th>Skew:</th>          <td> 0.209</td> <th>  Prob(JB):          </th> <td>3.85e-05</td>\n",
       "</tr>\n",
       "<tr>\n",
       "  <th>Kurtosis:</th>      <td> 4.748</td> <th>  Cond. No.          </th> <td>    6.81</td>\n",
       "</tr>\n",
       "</table><br/><br/>Notes:<br/>[1] Standard Errors assume that the covariance matrix of the errors is correctly specified."
      ],
      "text/plain": [
       "<class 'statsmodels.iolib.summary.Summary'>\n",
       "\"\"\"\n",
       "                            OLS Regression Results                            \n",
       "==============================================================================\n",
       "Dep. Variable:         Casechange2018   R-squared:                       0.409\n",
       "Model:                            OLS   Adj. R-squared:                  0.397\n",
       "Method:                 Least Squares   F-statistic:                     33.97\n",
       "Date:                Sun, 15 Nov 2020   Prob (F-statistic):           9.72e-17\n",
       "Time:                        14:21:54   Log-Likelihood:                 195.03\n",
       "No. Observations:                 151   AIC:                            -382.1\n",
       "Df Residuals:                     147   BIC:                            -370.0\n",
       "Df Model:                           3                                         \n",
       "Covariance Type:            nonrobust                                         \n",
       "================================================================================\n",
       "                   coef    std err          t      P>|t|      [0.025      0.975]\n",
       "--------------------------------------------------------------------------------\n",
       "const            0.0673      0.010      7.057      0.000       0.048       0.086\n",
       "Londonbor        0.1418      0.014     10.007      0.000       0.114       0.170\n",
       "Metrobor         0.0350      0.013      2.598      0.010       0.008       0.062\n",
       "Schoolaware2    -0.1099      0.034     -3.224      0.002      -0.177      -0.043\n",
       "==============================================================================\n",
       "Omnibus:                       10.191   Durbin-Watson:                   1.843\n",
       "Prob(Omnibus):                  0.006   Jarque-Bera (JB):               20.330\n",
       "Skew:                           0.209   Prob(JB):                     3.85e-05\n",
       "Kurtosis:                       4.748   Cond. No.                         6.81\n",
       "==============================================================================\n",
       "\n",
       "Notes:\n",
       "[1] Standard Errors assume that the covariance matrix of the errors is correctly specified.\n",
       "\"\"\""
      ]
     },
     "execution_count": 89,
     "metadata": {},
     "output_type": "execute_result"
    }
   ],
   "source": [
    "#stepwise regression\n",
    "model2_stepwise = sms.OLS(endog=df['Casechange2018'], exog=sms.add_constant(df[['Londonbor','Metrobor','Schoolaware2']])).fit()\n",
    "model2_stepwise.summary()"
   ]
  },
  {
   "cell_type": "code",
   "execution_count": null,
   "metadata": {},
   "outputs": [],
   "source": []
  }
 ],
 "metadata": {
  "kernelspec": {
   "display_name": "Python 3",
   "language": "python",
   "name": "python3"
  },
  "language_info": {
   "codemirror_mode": {
    "name": "ipython",
    "version": 3
   },
   "file_extension": ".py",
   "mimetype": "text/x-python",
   "name": "python",
   "nbconvert_exporter": "python",
   "pygments_lexer": "ipython3",
   "version": "3.7.8"
  }
 },
 "nbformat": 4,
 "nbformat_minor": 4
}
