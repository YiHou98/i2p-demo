{
 "cells": [
  {
   "cell_type": "code",
   "execution_count": 221,
   "metadata": {},
   "outputs": [
    {
     "name": "stdout",
     "output_type": "stream",
     "text": [
      "<class 'pandas.core.frame.DataFrame'>\n",
      "RangeIndex: 152 entries, 0 to 151\n",
      "Data columns (total 28 columns):\n",
      " #   Column                Non-Null Count  Dtype \n",
      "---  ------                --------------  ----- \n",
      " 0   local_authority_area  152 non-null    object\n",
      " 1   2008_cases_total      152 non-null    int64 \n",
      " 2   2013_cases_total      152 non-null    int64 \n",
      " 3   2018_cases_total      152 non-null    int64 \n",
      " 4   2008_pop_total        152 non-null    int64 \n",
      " 5   2013_pop_total        152 non-null    int64 \n",
      " 6   2018_pop_total        152 non-null    int64 \n",
      " 7   2008_cases_male       152 non-null    int64 \n",
      " 8   2013_cases_male       152 non-null    int64 \n",
      " 9   2018_cases_male       152 non-null    int64 \n",
      " 10  2008_pop_male         152 non-null    int64 \n",
      " 11  2013_pop_male         152 non-null    int64 \n",
      " 12  2018_pop_male         152 non-null    int64 \n",
      " 13  2008_cases_female     152 non-null    int64 \n",
      " 14  2013_cases_female     152 non-null    int64 \n",
      " 15  2018_cases_female     152 non-null    int64 \n",
      " 16  2008_pop_female       152 non-null    int64 \n",
      " 17  2013_pop_female       152 non-null    int64 \n",
      " 18  2018_pop_female       152 non-null    int64 \n",
      " 19  total_budget          152 non-null    int64 \n",
      " 20  clean_air             152 non-null    int64 \n",
      " 21  clean_environ         152 non-null    int64 \n",
      " 22  health_training       152 non-null    int64 \n",
      " 23  school_awareness      152 non-null    int64 \n",
      " 24  media_awareness       152 non-null    int64 \n",
      " 25  sub_counselling       152 non-null    int64 \n",
      " 26  region                152 non-null    object\n",
      " 27  local_authority_type  152 non-null    object\n",
      "dtypes: int64(25), object(3)\n",
      "memory usage: 33.4+ KB\n"
     ]
    }
   ],
   "source": [
    "# This program creates a boxplot from data stored in a csv file and saves it as a png image.\n",
    "\n",
    "# The data file must be one column of numbers - no column labels, etc.\n",
    "# It must be saved as a csv file (e.g. use \"Save As\" in Excel and choose csv format).\n",
    "# It must be saved in the same folder as this program.\n",
    "# See the file sample_boxplot_data.csv for reference.\n",
    "import pandas as pd\n",
    "import matplotlib.pyplot as plt\n",
    "import numpy as np\n",
    "import statsmodels.api as sms\n",
    "df = pd.read_csv('coursework_1_data_2019.csv', low_memory = False)\n",
    "# In the next line, replace sample_boxplot_data.csv with the filename of your data:\n",
    "df.info()\n",
    "\n",
    "# In the next line, replace boxplot with the filename you wish to save as:\n",
    "\n",
    "\n",
    "# Use the next line to set figure height and width (experiment to check the scale):\n"
   ]
  },
  {
   "cell_type": "code",
   "execution_count": null,
   "metadata": {},
   "outputs": [],
   "source": []
  },
  {
   "cell_type": "code",
   "execution_count": 222,
   "metadata": {},
   "outputs": [],
   "source": [
    "#create new variable: Casechange_2013, Casechange_2018 and the per person budget in six areas in 2008 and 2013\n",
    "\n",
    "df['Casechange_2013'] = ((df['2013_cases_total']/df['2013_pop_total']) - (df['2008_cases_total']/df['2008_pop_total']))/(df['2008_cases_total']/df['2008_pop_total'])\n",
    "df['Casechange_2013']   \n",
    "df['Casechange_2018'] = ((df['2018_cases_total']/df['2018_pop_total']) - (df['2013_cases_total']/df['2013_pop_total']))/(df['2013_cases_total']/df['2013_pop_total'])\n",
    "df['per_clean_air_2008'] = df['clean_air']/df['2008_pop_total']\n",
    "df['per_clean_environ_2008'] = df['clean_environ']/df['2008_pop_total']\n",
    "df['per_health_training_2008'] = df['health_training']/df['2008_pop_total']\n",
    "df['per_school_awareness_2008'] = df['school_awareness']/df['2008_pop_total']\n",
    "df['per_media_awareness_2008'] = df['media_awareness']/df['2008_pop_total']\n",
    "df['per_sub_counselling_2008'] = df['sub_counselling']/df['2008_pop_total']\n",
    "df['per_clean_air_2013'] = df['clean_air']/df['2013_pop_total']\n",
    "df['per_clean_environ_2013'] = df['clean_environ']/df['2013_pop_total']\n",
    "df['per_health_training_2013'] = df['health_training']/df['2013_pop_total']\n",
    "df['per_school_awareness_2013'] = df['school_awareness']/df['2013_pop_total']\n",
    "df['per_media_awareness_2013'] = df['media_awareness']/df['2013_pop_total']\n",
    "df['per_sub_counselling_2013'] = df['sub_counselling']/df['2013_pop_total']"
   ]
  },
  {
   "cell_type": "code",
   "execution_count": 223,
   "metadata": {},
   "outputs": [
    {
     "data": {
      "text/plain": [
       "count    152.000000\n",
       "mean       0.043413\n",
       "std        0.088698\n",
       "min       -0.815514\n",
       "25%        0.011961\n",
       "50%        0.039593\n",
       "75%        0.076445\n",
       "max        0.278623\n",
       "Name: Casechange_2013, dtype: float64"
      ]
     },
     "execution_count": 223,
     "metadata": {},
     "output_type": "execute_result"
    }
   ],
   "source": [
    "#describe new variables and compare them\n",
    "df['Casechange_2013'].describe()"
   ]
  },
  {
   "cell_type": "code",
   "execution_count": 224,
   "metadata": {},
   "outputs": [
    {
     "data": {
      "text/plain": [
       "count    152.000000\n",
       "mean       0.103903\n",
       "std        0.244896\n",
       "min       -0.217322\n",
       "25%        0.029613\n",
       "50%        0.070794\n",
       "75%        0.122929\n",
       "max        2.909836\n",
       "Name: Casechange_2018, dtype: float64"
      ]
     },
     "execution_count": 224,
     "metadata": {},
     "output_type": "execute_result"
    }
   ],
   "source": [
    "df['Casechange_2018'].describe()"
   ]
  },
  {
   "cell_type": "code",
   "execution_count": 225,
   "metadata": {},
   "outputs": [],
   "source": [
    "%matplotlib inline\n",
    "import matplotlib.pyplot as plt"
   ]
  },
  {
   "cell_type": "code",
   "execution_count": 226,
   "metadata": {},
   "outputs": [
    {
     "data": {
      "image/png": "[encoded data removed]",
      "text/plain": [
       "<Figure size 432x288 with 1 Axes>"
      ]
     },
     "metadata": {
      "needs_background": "light"
     },
     "output_type": "display_data"
    }
   ],
   "source": [
    "figure_width, figure_height = 6,4\n",
    "plt.figure(figsize=(figure_width,figure_height))\n",
    "df['Casechange_2013'].plot.hist() # histogram\n",
    "plt.savefig('histagram_2013.png')"
   ]
  },
  {
   "cell_type": "code",
   "execution_count": 227,
   "metadata": {},
   "outputs": [
    {
     "data": {
      "image/png": "[encoded data removed]",
      "text/plain": [
       "<Figure size 432x288 with 1 Axes>"
      ]
     },
     "metadata": {
      "needs_background": "light"
     },
     "output_type": "display_data"
    }
   ],
   "source": [
    "figure_width, figure_height = 6,4\n",
    "plt.figure(figsize=(figure_width,figure_height))\n",
    "df['Casechange_2018'].plot.hist() # histogram\n",
    "plt.savefig('histagram_2018.png')"
   ]
  },
  {
   "cell_type": "code",
   "execution_count": 228,
   "metadata": {},
   "outputs": [
    {
     "data": {
      "image/png": "[encoded data removed]",
      "text/plain": [
       "<Figure size 432x288 with 1 Axes>"
      ]
     },
     "metadata": {
      "needs_background": "light"
     },
     "output_type": "display_data"
    }
   ],
   "source": [
    "figure_width, figure_height = 6,4\n",
    "plt.figure(figsize=(figure_width,figure_height))\n",
    "df['Casechange_2013'].plot.box() # boxplot\n",
    "plt.savefig('box_plot_2013.png')"
   ]
  },
  {
   "cell_type": "code",
   "execution_count": 229,
   "metadata": {},
   "outputs": [
    {
     "data": {
      "image/png": "[encoded data removed]",
      "text/plain": [
       "<Figure size 432x288 with 1 Axes>"
      ]
     },
     "metadata": {
      "needs_background": "light"
     },
     "output_type": "display_data"
    }
   ],
   "source": [
    "figure_width, figure_height = 6,4\n",
    "plt.figure(figsize=(figure_width,figure_height))\n",
    "df['Casechange_2018'].plot.box() # boxplot\n",
    "plt.savefig('box_plot_2018.png')"
   ]
  },
  {
   "cell_type": "code",
   "execution_count": 230,
   "metadata": {},
   "outputs": [
    {
     "data": {
      "text/plain": [
       "count    1.520000e+02\n",
       "mean     2.703092e+05\n",
       "std      2.104618e+05\n",
       "min      2.000000e+03\n",
       "25%      1.400000e+05\n",
       "50%      2.000000e+05\n",
       "75%      3.017500e+05\n",
       "max      1.170000e+06\n",
       "Name: total_budget, dtype: float64"
      ]
     },
     "execution_count": 230,
     "metadata": {},
     "output_type": "execute_result"
    }
   ],
   "source": [
    "df['total_budget'].describe() # boxplot"
   ]
  },
  {
   "cell_type": "code",
   "execution_count": 231,
   "metadata": {},
   "outputs": [],
   "source": [
    "#delete the outlier 'Isles of Scilly'\n",
    "df.drop([59],inplace = True)"
   ]
  },
  {
   "cell_type": "code",
   "execution_count": 232,
   "metadata": {},
   "outputs": [
    {
     "name": "stdout",
     "output_type": "stream",
     "text": [
      "Ttest_relResult(statistic=-4.67154060609338, pvalue=6.593613093028499e-06)\n"
     ]
    }
   ],
   "source": [
    "# t-Test for two related samples\n",
    "from scipy.stats import ttest_rel\n",
    "print(ttest_rel(df['Casechange_2013'],df['Casechange_2018']))"
   ]
  },
  {
   "cell_type": "code",
   "execution_count": 233,
   "metadata": {},
   "outputs": [
    {
     "data": {
      "text/html": [
       "<div>\n",
       "<style scoped>\n",
       "    .dataframe tbody tr th:only-of-type {\n",
       "        vertical-align: middle;\n",
       "    }\n",
       "\n",
       "    .dataframe tbody tr th {\n",
       "        vertical-align: top;\n",
       "    }\n",
       "\n",
       "    .dataframe thead th {\n",
       "        text-align: right;\n",
       "    }\n",
       "</style>\n",
       "<table border=\"1\" class=\"dataframe\">\n",
       "  <thead>\n",
       "    <tr style=\"text-align: right;\">\n",
       "      <th></th>\n",
       "      <th>london_borough</th>\n",
       "      <th>metropolitan_borough</th>\n",
       "      <th>non_metropolitan_county</th>\n",
       "      <th>other_london</th>\n",
       "      <th>unitary_authority</th>\n",
       "    </tr>\n",
       "  </thead>\n",
       "  <tbody>\n",
       "    <tr>\n",
       "      <th>0</th>\n",
       "      <td>1</td>\n",
       "      <td>0</td>\n",
       "      <td>0</td>\n",
       "      <td>0</td>\n",
       "      <td>0</td>\n",
       "    </tr>\n",
       "    <tr>\n",
       "      <th>1</th>\n",
       "      <td>1</td>\n",
       "      <td>0</td>\n",
       "      <td>0</td>\n",
       "      <td>0</td>\n",
       "      <td>0</td>\n",
       "    </tr>\n",
       "    <tr>\n",
       "      <th>2</th>\n",
       "      <td>0</td>\n",
       "      <td>1</td>\n",
       "      <td>0</td>\n",
       "      <td>0</td>\n",
       "      <td>0</td>\n",
       "    </tr>\n",
       "    <tr>\n",
       "      <th>3</th>\n",
       "      <td>0</td>\n",
       "      <td>0</td>\n",
       "      <td>0</td>\n",
       "      <td>0</td>\n",
       "      <td>1</td>\n",
       "    </tr>\n",
       "    <tr>\n",
       "      <th>4</th>\n",
       "      <td>0</td>\n",
       "      <td>0</td>\n",
       "      <td>0</td>\n",
       "      <td>0</td>\n",
       "      <td>1</td>\n",
       "    </tr>\n",
       "    <tr>\n",
       "      <th>...</th>\n",
       "      <td>...</td>\n",
       "      <td>...</td>\n",
       "      <td>...</td>\n",
       "      <td>...</td>\n",
       "      <td>...</td>\n",
       "    </tr>\n",
       "    <tr>\n",
       "      <th>147</th>\n",
       "      <td>0</td>\n",
       "      <td>1</td>\n",
       "      <td>0</td>\n",
       "      <td>0</td>\n",
       "      <td>0</td>\n",
       "    </tr>\n",
       "    <tr>\n",
       "      <th>148</th>\n",
       "      <td>0</td>\n",
       "      <td>0</td>\n",
       "      <td>0</td>\n",
       "      <td>0</td>\n",
       "      <td>1</td>\n",
       "    </tr>\n",
       "    <tr>\n",
       "      <th>149</th>\n",
       "      <td>0</td>\n",
       "      <td>1</td>\n",
       "      <td>0</td>\n",
       "      <td>0</td>\n",
       "      <td>0</td>\n",
       "    </tr>\n",
       "    <tr>\n",
       "      <th>150</th>\n",
       "      <td>0</td>\n",
       "      <td>0</td>\n",
       "      <td>1</td>\n",
       "      <td>0</td>\n",
       "      <td>0</td>\n",
       "    </tr>\n",
       "    <tr>\n",
       "      <th>151</th>\n",
       "      <td>0</td>\n",
       "      <td>0</td>\n",
       "      <td>0</td>\n",
       "      <td>0</td>\n",
       "      <td>1</td>\n",
       "    </tr>\n",
       "  </tbody>\n",
       "</table>\n",
       "<p>151 rows × 5 columns</p>\n",
       "</div>"
      ],
      "text/plain": [
       "     london_borough  metropolitan_borough  non_metropolitan_county  \\\n",
       "0                 1                     0                        0   \n",
       "1                 1                     0                        0   \n",
       "2                 0                     1                        0   \n",
       "3                 0                     0                        0   \n",
       "4                 0                     0                        0   \n",
       "..              ...                   ...                      ...   \n",
       "147               0                     1                        0   \n",
       "148               0                     0                        0   \n",
       "149               0                     1                        0   \n",
       "150               0                     0                        1   \n",
       "151               0                     0                        0   \n",
       "\n",
       "     other_london  unitary_authority  \n",
       "0               0                  0  \n",
       "1               0                  0  \n",
       "2               0                  0  \n",
       "3               0                  1  \n",
       "4               0                  1  \n",
       "..            ...                ...  \n",
       "147             0                  0  \n",
       "148             0                  1  \n",
       "149             0                  0  \n",
       "150             0                  0  \n",
       "151             0                  1  \n",
       "\n",
       "[151 rows x 5 columns]"
      ]
     },
     "execution_count": 233,
     "metadata": {},
     "output_type": "execute_result"
    }
   ],
   "source": [
    "#create dummies\n",
    "dummies = pd.get_dummies(df['local_authority_type'],prefix = None,prefix_sep = \"_\",dummy_na = False,columns = None,drop_first =False)\n",
    "dummies"
   ]
  },
  {
   "cell_type": "code",
   "execution_count": 234,
   "metadata": {},
   "outputs": [],
   "source": [
    "#choose london_borough, metropolitan_borough and non_metropolitan_country as dummy variables \n",
    "#and combine them with original dataframe\n",
    "df['london_borough'] = dummies['london_borough']\n",
    "df['metropolitan_borough'] = dummies['metropolitan_borough']\n",
    "df['non_metropolitan_county'] = dummies['non_metropolitan_county']"
   ]
  },
  {
   "cell_type": "code",
   "execution_count": 235,
   "metadata": {},
   "outputs": [],
   "source": [
    "df1 = df[['per_clean_air_2008','per_clean_environ_2008','per_health_training_2008','per_school_awareness_2008','per_media_awareness_2008','per_sub_counselling_2008','london_borough','metropolitan_borough','non_metropolitan_county']]"
   ]
  },
  {
   "cell_type": "code",
   "execution_count": 236,
   "metadata": {},
   "outputs": [],
   "source": [
    "# There are so many independent variables and we should check if there is multicollinearity \n",
    "# calculating VIF\n",
    "from statsmodels.stats.outliers_influence import variance_inflation_factor \n",
    "from statsmodels.tools.tools import add_constant\n",
    "\n",
    "def drop_column_using_vif_(df, thresh=5):\n",
    "    while True:\n",
    "        # adding a constatnt item to the data\n",
    "        df_with_const = add_constant(df)\n",
    "\n",
    "        vif_df = pd.Series([variance_inflation_factor(df_with_const.values, i) \n",
    "               for i in range(df_with_const.shape[1])], name= \"VIF\",\n",
    "              index=df_with_const.columns).to_frame()\n",
    "\n",
    "        # drop the const\n",
    "        vif_df = vif_df.drop('const')\n",
    "        \n",
    "        # if the largest VIF is above the thresh, remove a variable with the largest VIF\n",
    "        if vif_df.VIF.max() > thresh:\n",
    "            # If there are multiple variables with the maximum VIF, choose the first one\n",
    "            index_to_drop = vif_df.index[vif_df.VIF == vif_df.VIF.max()].tolist()[0]\n",
    "            print('Dropping: {}'.format(index_to_drop))\n",
    "            df = df.drop(columns = index_to_drop)\n",
    "        else:\n",
    "            # No VIF is above threshold. Exit the loop\n",
    "            break\n",
    "\n",
    "    return df"
   ]
  },
  {
   "cell_type": "code",
   "execution_count": 272,
   "metadata": {},
   "outputs": [
    {
     "name": "stdout",
     "output_type": "stream",
     "text": [
      "The columns remaining after VIF selection are:\n",
      "Index(['per_clean_air_2008', 'per_clean_environ_2008',\n",
      "       'per_health_training_2008', 'per_school_awareness_2008',\n",
      "       'per_media_awareness_2008', 'per_sub_counselling_2008',\n",
      "       'london_borough', 'metropolitan_borough', 'non_metropolitan_county'],\n",
      "      dtype='object')\n"
     ]
    }
   ],
   "source": [
    "df_predictors_selected_VIF = drop_column_using_vif_(df1, thresh=5)\n",
    "df_predictors_selected_VIF\n",
    "print(\"The columns remaining after VIF selection are:\")\n",
    "print(df_predictors_selected_VIF.columns)"
   ]
  },
  {
   "cell_type": "code",
   "execution_count": 238,
   "metadata": {},
   "outputs": [
    {
     "data": {
      "text/html": [
       "<table class=\"simpletable\">\n",
       "<caption>OLS Regression Results</caption>\n",
       "<tr>\n",
       "  <th>Dep. Variable:</th>     <td>Casechange_2013</td> <th>  R-squared:         </th> <td>   0.275</td>\n",
       "</tr>\n",
       "<tr>\n",
       "  <th>Model:</th>                   <td>OLS</td>       <th>  Adj. R-squared:    </th> <td>   0.229</td>\n",
       "</tr>\n",
       "<tr>\n",
       "  <th>Method:</th>             <td>Least Squares</td>  <th>  F-statistic:       </th> <td>   5.944</td>\n",
       "</tr>\n",
       "<tr>\n",
       "  <th>Date:</th>             <td>Sat, 14 Nov 2020</td> <th>  Prob (F-statistic):</th> <td>4.99e-07</td>\n",
       "</tr>\n",
       "<tr>\n",
       "  <th>Time:</th>                 <td>14:54:11</td>     <th>  Log-Likelihood:    </th> <td>  249.91</td>\n",
       "</tr>\n",
       "<tr>\n",
       "  <th>No. Observations:</th>      <td>   151</td>      <th>  AIC:               </th> <td>  -479.8</td>\n",
       "</tr>\n",
       "<tr>\n",
       "  <th>Df Residuals:</th>          <td>   141</td>      <th>  BIC:               </th> <td>  -449.6</td>\n",
       "</tr>\n",
       "<tr>\n",
       "  <th>Df Model:</th>              <td>     9</td>      <th>                     </th>     <td> </td>   \n",
       "</tr>\n",
       "<tr>\n",
       "  <th>Covariance Type:</th>      <td>nonrobust</td>    <th>                     </th>     <td> </td>   \n",
       "</tr>\n",
       "</table>\n",
       "<table class=\"simpletable\">\n",
       "<tr>\n",
       "              <td></td>                 <th>coef</th>     <th>std err</th>      <th>t</th>      <th>P>|t|</th>  <th>[0.025</th>    <th>0.975]</th>  \n",
       "</tr>\n",
       "<tr>\n",
       "  <th>const</th>                     <td>    0.0176</td> <td>    0.018</td> <td>    0.955</td> <td> 0.341</td> <td>   -0.019</td> <td>    0.054</td>\n",
       "</tr>\n",
       "<tr>\n",
       "  <th>per_clean_air_2008</th>        <td>    0.0824</td> <td>    0.049</td> <td>    1.669</td> <td> 0.097</td> <td>   -0.015</td> <td>    0.180</td>\n",
       "</tr>\n",
       "<tr>\n",
       "  <th>per_clean_environ_2008</th>    <td>   -0.0030</td> <td>    0.047</td> <td>   -0.065</td> <td> 0.948</td> <td>   -0.096</td> <td>    0.090</td>\n",
       "</tr>\n",
       "<tr>\n",
       "  <th>per_health_training_2008</th>  <td>    0.0433</td> <td>    0.108</td> <td>    0.400</td> <td> 0.690</td> <td>   -0.171</td> <td>    0.257</td>\n",
       "</tr>\n",
       "<tr>\n",
       "  <th>per_school_awareness_2008</th> <td>   -0.0854</td> <td>    0.040</td> <td>   -2.148</td> <td> 0.033</td> <td>   -0.164</td> <td>   -0.007</td>\n",
       "</tr>\n",
       "<tr>\n",
       "  <th>per_media_awareness_2008</th>  <td>    0.1485</td> <td>    0.092</td> <td>    1.617</td> <td> 0.108</td> <td>   -0.033</td> <td>    0.330</td>\n",
       "</tr>\n",
       "<tr>\n",
       "  <th>per_sub_counselling_2008</th>  <td>    0.0293</td> <td>    0.154</td> <td>    0.191</td> <td> 0.849</td> <td>   -0.274</td> <td>    0.333</td>\n",
       "</tr>\n",
       "<tr>\n",
       "  <th>london_borough</th>            <td>    0.0611</td> <td>    0.011</td> <td>    5.703</td> <td> 0.000</td> <td>    0.040</td> <td>    0.082</td>\n",
       "</tr>\n",
       "<tr>\n",
       "  <th>metropolitan_borough</th>      <td>    0.0222</td> <td>    0.010</td> <td>    2.137</td> <td> 0.034</td> <td>    0.002</td> <td>    0.043</td>\n",
       "</tr>\n",
       "<tr>\n",
       "  <th>non_metropolitan_county</th>   <td>   -0.0216</td> <td>    0.011</td> <td>   -1.907</td> <td> 0.059</td> <td>   -0.044</td> <td>    0.001</td>\n",
       "</tr>\n",
       "</table>\n",
       "<table class=\"simpletable\">\n",
       "<tr>\n",
       "  <th>Omnibus:</th>       <td>30.525</td> <th>  Durbin-Watson:     </th> <td>   2.036</td>\n",
       "</tr>\n",
       "<tr>\n",
       "  <th>Prob(Omnibus):</th> <td> 0.000</td> <th>  Jarque-Bera (JB):  </th> <td>  50.629</td>\n",
       "</tr>\n",
       "<tr>\n",
       "  <th>Skew:</th>          <td> 0.992</td> <th>  Prob(JB):          </th> <td>1.01e-11</td>\n",
       "</tr>\n",
       "<tr>\n",
       "  <th>Kurtosis:</th>      <td> 5.027</td> <th>  Cond. No.          </th> <td>    44.8</td>\n",
       "</tr>\n",
       "</table><br/><br/>Notes:<br/>[1] Standard Errors assume that the covariance matrix of the errors is correctly specified."
      ],
      "text/plain": [
       "<class 'statsmodels.iolib.summary.Summary'>\n",
       "\"\"\"\n",
       "                            OLS Regression Results                            \n",
       "==============================================================================\n",
       "Dep. Variable:        Casechange_2013   R-squared:                       0.275\n",
       "Model:                            OLS   Adj. R-squared:                  0.229\n",
       "Method:                 Least Squares   F-statistic:                     5.944\n",
       "Date:                Sat, 14 Nov 2020   Prob (F-statistic):           4.99e-07\n",
       "Time:                        14:54:11   Log-Likelihood:                 249.91\n",
       "No. Observations:                 151   AIC:                            -479.8\n",
       "Df Residuals:                     141   BIC:                            -449.6\n",
       "Df Model:                           9                                         \n",
       "Covariance Type:            nonrobust                                         \n",
       "=============================================================================================\n",
       "                                coef    std err          t      P>|t|      [0.025      0.975]\n",
       "---------------------------------------------------------------------------------------------\n",
       "const                         0.0176      0.018      0.955      0.341      -0.019       0.054\n",
       "per_clean_air_2008            0.0824      0.049      1.669      0.097      -0.015       0.180\n",
       "per_clean_environ_2008       -0.0030      0.047     -0.065      0.948      -0.096       0.090\n",
       "per_health_training_2008      0.0433      0.108      0.400      0.690      -0.171       0.257\n",
       "per_school_awareness_2008    -0.0854      0.040     -2.148      0.033      -0.164      -0.007\n",
       "per_media_awareness_2008      0.1485      0.092      1.617      0.108      -0.033       0.330\n",
       "per_sub_counselling_2008      0.0293      0.154      0.191      0.849      -0.274       0.333\n",
       "london_borough                0.0611      0.011      5.703      0.000       0.040       0.082\n",
       "metropolitan_borough          0.0222      0.010      2.137      0.034       0.002       0.043\n",
       "non_metropolitan_county      -0.0216      0.011     -1.907      0.059      -0.044       0.001\n",
       "==============================================================================\n",
       "Omnibus:                       30.525   Durbin-Watson:                   2.036\n",
       "Prob(Omnibus):                  0.000   Jarque-Bera (JB):               50.629\n",
       "Skew:                           0.992   Prob(JB):                     1.01e-11\n",
       "Kurtosis:                       5.027   Cond. No.                         44.8\n",
       "==============================================================================\n",
       "\n",
       "Notes:\n",
       "[1] Standard Errors assume that the covariance matrix of the errors is correctly specified.\n",
       "\"\"\""
      ]
     },
     "execution_count": 238,
     "metadata": {},
     "output_type": "execute_result"
    }
   ],
   "source": [
    "#the result above shows there is no multicollinearity, so we will put all these variables into function\n",
    "#model1 Casechange_i2013 = \n",
    "model1 = sms.OLS(endog=df['Casechange_2013'], exog=sms.add_constant(df_predictors_selected_VIF)).fit()\n",
    "model1.summary()"
   ]
  },
  {
   "cell_type": "code",
   "execution_count": 281,
   "metadata": {},
   "outputs": [
    {
     "data": {
      "image/png": "[encoded data removed]",
      "text/plain": [
       "<Figure size 432x288 with 1 Axes>"
      ]
     },
     "metadata": {
      "needs_background": "light"
     },
     "output_type": "display_data"
    }
   ],
   "source": [
    "# residual analysis\n",
    "%matplotlib inline\n",
    "plt.figure(figsize=(6,4))\n",
    "plt.scatter(model1.fittedvalues, model1.resid)\n",
    "plt.xlabel('Fitted Casechange_2013')\n",
    "plt.ylabel('Residual')\n",
    "plt.savefig('Residual_analysis_2015.png')"
   ]
  },
  {
   "cell_type": "code",
   "execution_count": null,
   "metadata": {},
   "outputs": [],
   "source": [
    "a = pd.Series(model1.fittedvalues, name = \"fittedvalues\") \n",
    "b = pd.Series(model1.resid,name = \"resid\")\n",
    "df4 = pd.merge(a, b, right_index = True, \n",
    "               left_index = True) \n",
    "print(df4)"
   ]
  },
  {
   "cell_type": "code",
   "execution_count": 282,
   "metadata": {},
   "outputs": [
    {
     "data": {
      "text/html": [
       "<table class=\"simpletable\">\n",
       "<caption>OLS Regression Results</caption>\n",
       "<tr>\n",
       "  <th>Dep. Variable:</th>     <td>Casechange_2013</td> <th>  R-squared:         </th> <td>   0.223</td>\n",
       "</tr>\n",
       "<tr>\n",
       "  <th>Model:</th>                   <td>OLS</td>       <th>  Adj. R-squared:    </th> <td>   0.212</td>\n",
       "</tr>\n",
       "<tr>\n",
       "  <th>Method:</th>             <td>Least Squares</td>  <th>  F-statistic:       </th> <td>   21.20</td>\n",
       "</tr>\n",
       "<tr>\n",
       "  <th>Date:</th>             <td>Sat, 14 Nov 2020</td> <th>  Prob (F-statistic):</th> <td>7.99e-09</td>\n",
       "</tr>\n",
       "<tr>\n",
       "  <th>Time:</th>                 <td>16:23:36</td>     <th>  Log-Likelihood:    </th> <td>  244.64</td>\n",
       "</tr>\n",
       "<tr>\n",
       "  <th>No. Observations:</th>      <td>   151</td>      <th>  AIC:               </th> <td>  -483.3</td>\n",
       "</tr>\n",
       "<tr>\n",
       "  <th>Df Residuals:</th>          <td>   148</td>      <th>  BIC:               </th> <td>  -474.2</td>\n",
       "</tr>\n",
       "<tr>\n",
       "  <th>Df Model:</th>              <td>     2</td>      <th>                     </th>     <td> </td>   \n",
       "</tr>\n",
       "<tr>\n",
       "  <th>Covariance Type:</th>      <td>nonrobust</td>    <th>                     </th>     <td> </td>   \n",
       "</tr>\n",
       "</table>\n",
       "<table class=\"simpletable\">\n",
       "<tr>\n",
       "            <td></td>              <th>coef</th>     <th>std err</th>      <th>t</th>      <th>P>|t|</th>  <th>[0.025</th>    <th>0.975]</th>  \n",
       "</tr>\n",
       "<tr>\n",
       "  <th>const</th>                <td>    0.0289</td> <td>    0.005</td> <td>    5.453</td> <td> 0.000</td> <td>    0.018</td> <td>    0.039</td>\n",
       "</tr>\n",
       "<tr>\n",
       "  <th>london_borough</th>       <td>    0.0648</td> <td>    0.010</td> <td>    6.441</td> <td> 0.000</td> <td>    0.045</td> <td>    0.085</td>\n",
       "</tr>\n",
       "<tr>\n",
       "  <th>metropolitan_borough</th> <td>    0.0269</td> <td>    0.010</td> <td>    2.790</td> <td> 0.006</td> <td>    0.008</td> <td>    0.046</td>\n",
       "</tr>\n",
       "</table>\n",
       "<table class=\"simpletable\">\n",
       "<tr>\n",
       "  <th>Omnibus:</th>       <td>28.337</td> <th>  Durbin-Watson:     </th> <td>   2.081</td>\n",
       "</tr>\n",
       "<tr>\n",
       "  <th>Prob(Omnibus):</th> <td> 0.000</td> <th>  Jarque-Bera (JB):  </th> <td>  42.279</td>\n",
       "</tr>\n",
       "<tr>\n",
       "  <th>Skew:</th>          <td> 0.985</td> <th>  Prob(JB):          </th> <td>6.60e-10</td>\n",
       "</tr>\n",
       "<tr>\n",
       "  <th>Kurtosis:</th>      <td> 4.686</td> <th>  Cond. No.          </th> <td>    3.17</td>\n",
       "</tr>\n",
       "</table><br/><br/>Notes:<br/>[1] Standard Errors assume that the covariance matrix of the errors is correctly specified."
      ],
      "text/plain": [
       "<class 'statsmodels.iolib.summary.Summary'>\n",
       "\"\"\"\n",
       "                            OLS Regression Results                            \n",
       "==============================================================================\n",
       "Dep. Variable:        Casechange_2013   R-squared:                       0.223\n",
       "Model:                            OLS   Adj. R-squared:                  0.212\n",
       "Method:                 Least Squares   F-statistic:                     21.20\n",
       "Date:                Sat, 14 Nov 2020   Prob (F-statistic):           7.99e-09\n",
       "Time:                        16:23:36   Log-Likelihood:                 244.64\n",
       "No. Observations:                 151   AIC:                            -483.3\n",
       "Df Residuals:                     148   BIC:                            -474.2\n",
       "Df Model:                           2                                         \n",
       "Covariance Type:            nonrobust                                         \n",
       "========================================================================================\n",
       "                           coef    std err          t      P>|t|      [0.025      0.975]\n",
       "----------------------------------------------------------------------------------------\n",
       "const                    0.0289      0.005      5.453      0.000       0.018       0.039\n",
       "london_borough           0.0648      0.010      6.441      0.000       0.045       0.085\n",
       "metropolitan_borough     0.0269      0.010      2.790      0.006       0.008       0.046\n",
       "==============================================================================\n",
       "Omnibus:                       28.337   Durbin-Watson:                   2.081\n",
       "Prob(Omnibus):                  0.000   Jarque-Bera (JB):               42.279\n",
       "Skew:                           0.985   Prob(JB):                     6.60e-10\n",
       "Kurtosis:                       4.686   Cond. No.                         3.17\n",
       "==============================================================================\n",
       "\n",
       "Notes:\n",
       "[1] Standard Errors assume that the covariance matrix of the errors is correctly specified.\n",
       "\"\"\""
      ]
     },
     "execution_count": 282,
     "metadata": {},
     "output_type": "execute_result"
    }
   ],
   "source": [
    "#stepwise regression\n",
    "#model1 Casechange_i2013 = \n",
    "model1_stepwise = sms.OLS(endog=df['Casechange_2013'], exog=sms.add_constant(df[['london_borough','metropolitan_borough']])).fit()\n",
    "model1_stepwise.summary()"
   ]
  },
  {
   "cell_type": "code",
   "execution_count": 283,
   "metadata": {},
   "outputs": [],
   "source": [
    "df2 = df[['per_clean_air_2013','per_clean_environ_2013','per_health_training_2013','per_school_awareness_2013','per_media_awareness_2013','per_sub_counselling_2013','london_borough','metropolitan_borough','non_metropolitan_county']]"
   ]
  },
  {
   "cell_type": "code",
   "execution_count": 284,
   "metadata": {},
   "outputs": [
    {
     "name": "stdout",
     "output_type": "stream",
     "text": [
      "The columns remaining after VIF selection are:\n",
      "Index(['per_clean_air_2013', 'per_clean_environ_2013',\n",
      "       'per_health_training_2013', 'per_school_awareness_2013',\n",
      "       'per_media_awareness_2013', 'per_sub_counselling_2013',\n",
      "       'london_borough', 'metropolitan_borough', 'non_metropolitan_county'],\n",
      "      dtype='object')\n"
     ]
    }
   ],
   "source": [
    "#collinearity diagnostics\n",
    "df_predictors_selected_VIF = drop_column_using_vif_(df2, thresh=5)\n",
    "print(\"The columns remaining after VIF selection are:\")\n",
    "print(df_predictors_selected_VIF.columns)"
   ]
  },
  {
   "cell_type": "code",
   "execution_count": 285,
   "metadata": {},
   "outputs": [
    {
     "data": {
      "text/html": [
       "<table class=\"simpletable\">\n",
       "<caption>OLS Regression Results</caption>\n",
       "<tr>\n",
       "  <th>Dep. Variable:</th>     <td>Casechange_2018</td> <th>  R-squared:         </th> <td>   0.415</td>\n",
       "</tr>\n",
       "<tr>\n",
       "  <th>Model:</th>                   <td>OLS</td>       <th>  Adj. R-squared:    </th> <td>   0.378</td>\n",
       "</tr>\n",
       "<tr>\n",
       "  <th>Method:</th>             <td>Least Squares</td>  <th>  F-statistic:       </th> <td>   11.13</td>\n",
       "</tr>\n",
       "<tr>\n",
       "  <th>Date:</th>             <td>Sat, 14 Nov 2020</td> <th>  Prob (F-statistic):</th> <td>5.12e-13</td>\n",
       "</tr>\n",
       "<tr>\n",
       "  <th>Time:</th>                 <td>16:24:29</td>     <th>  Log-Likelihood:    </th> <td>  195.80</td>\n",
       "</tr>\n",
       "<tr>\n",
       "  <th>No. Observations:</th>      <td>   151</td>      <th>  AIC:               </th> <td>  -371.6</td>\n",
       "</tr>\n",
       "<tr>\n",
       "  <th>Df Residuals:</th>          <td>   141</td>      <th>  BIC:               </th> <td>  -341.4</td>\n",
       "</tr>\n",
       "<tr>\n",
       "  <th>Df Model:</th>              <td>     9</td>      <th>                     </th>     <td> </td>   \n",
       "</tr>\n",
       "<tr>\n",
       "  <th>Covariance Type:</th>      <td>nonrobust</td>    <th>                     </th>     <td> </td>   \n",
       "</tr>\n",
       "</table>\n",
       "<table class=\"simpletable\">\n",
       "<tr>\n",
       "              <td></td>                 <th>coef</th>     <th>std err</th>      <th>t</th>      <th>P>|t|</th>  <th>[0.025</th>    <th>0.975]</th>  \n",
       "</tr>\n",
       "<tr>\n",
       "  <th>const</th>                     <td>    0.0247</td> <td>    0.024</td> <td>    1.021</td> <td> 0.309</td> <td>   -0.023</td> <td>    0.073</td>\n",
       "</tr>\n",
       "<tr>\n",
       "  <th>per_clean_air_2013</th>        <td>   -0.0311</td> <td>    0.072</td> <td>   -0.431</td> <td> 0.667</td> <td>   -0.174</td> <td>    0.112</td>\n",
       "</tr>\n",
       "<tr>\n",
       "  <th>per_clean_environ_2013</th>    <td>    0.0787</td> <td>    0.067</td> <td>    1.169</td> <td> 0.244</td> <td>   -0.054</td> <td>    0.212</td>\n",
       "</tr>\n",
       "<tr>\n",
       "  <th>per_health_training_2013</th>  <td>    0.0839</td> <td>    0.160</td> <td>    0.525</td> <td> 0.600</td> <td>   -0.232</td> <td>    0.400</td>\n",
       "</tr>\n",
       "<tr>\n",
       "  <th>per_school_awareness_2013</th> <td>   -0.0843</td> <td>    0.057</td> <td>   -1.475</td> <td> 0.142</td> <td>   -0.197</td> <td>    0.029</td>\n",
       "</tr>\n",
       "<tr>\n",
       "  <th>per_media_awareness_2013</th>  <td>    0.2513</td> <td>    0.135</td> <td>    1.858</td> <td> 0.065</td> <td>   -0.016</td> <td>    0.519</td>\n",
       "</tr>\n",
       "<tr>\n",
       "  <th>per_sub_counselling_2013</th>  <td>   -0.0064</td> <td>    0.221</td> <td>   -0.029</td> <td> 0.977</td> <td>   -0.444</td> <td>    0.431</td>\n",
       "</tr>\n",
       "<tr>\n",
       "  <th>london_borough</th>            <td>    0.1365</td> <td>    0.015</td> <td>    8.919</td> <td> 0.000</td> <td>    0.106</td> <td>    0.167</td>\n",
       "</tr>\n",
       "<tr>\n",
       "  <th>metropolitan_borough</th>      <td>    0.0329</td> <td>    0.015</td> <td>    2.209</td> <td> 0.029</td> <td>    0.003</td> <td>    0.062</td>\n",
       "</tr>\n",
       "<tr>\n",
       "  <th>non_metropolitan_county</th>   <td>   -0.0002</td> <td>    0.016</td> <td>   -0.012</td> <td> 0.991</td> <td>   -0.032</td> <td>    0.032</td>\n",
       "</tr>\n",
       "</table>\n",
       "<table class=\"simpletable\">\n",
       "<tr>\n",
       "  <th>Omnibus:</th>       <td> 8.728</td> <th>  Durbin-Watson:     </th> <td>   1.820</td>\n",
       "</tr>\n",
       "<tr>\n",
       "  <th>Prob(Omnibus):</th> <td> 0.013</td> <th>  Jarque-Bera (JB):  </th> <td>  17.860</td>\n",
       "</tr>\n",
       "<tr>\n",
       "  <th>Skew:</th>          <td> 0.064</td> <th>  Prob(JB):          </th> <td>0.000132</td>\n",
       "</tr>\n",
       "<tr>\n",
       "  <th>Kurtosis:</th>      <td> 4.680</td> <th>  Cond. No.          </th> <td>    45.0</td>\n",
       "</tr>\n",
       "</table><br/><br/>Notes:<br/>[1] Standard Errors assume that the covariance matrix of the errors is correctly specified."
      ],
      "text/plain": [
       "<class 'statsmodels.iolib.summary.Summary'>\n",
       "\"\"\"\n",
       "                            OLS Regression Results                            \n",
       "==============================================================================\n",
       "Dep. Variable:        Casechange_2018   R-squared:                       0.415\n",
       "Model:                            OLS   Adj. R-squared:                  0.378\n",
       "Method:                 Least Squares   F-statistic:                     11.13\n",
       "Date:                Sat, 14 Nov 2020   Prob (F-statistic):           5.12e-13\n",
       "Time:                        16:24:29   Log-Likelihood:                 195.80\n",
       "No. Observations:                 151   AIC:                            -371.6\n",
       "Df Residuals:                     141   BIC:                            -341.4\n",
       "Df Model:                           9                                         \n",
       "Covariance Type:            nonrobust                                         \n",
       "=============================================================================================\n",
       "                                coef    std err          t      P>|t|      [0.025      0.975]\n",
       "---------------------------------------------------------------------------------------------\n",
       "const                         0.0247      0.024      1.021      0.309      -0.023       0.073\n",
       "per_clean_air_2013           -0.0311      0.072     -0.431      0.667      -0.174       0.112\n",
       "per_clean_environ_2013        0.0787      0.067      1.169      0.244      -0.054       0.212\n",
       "per_health_training_2013      0.0839      0.160      0.525      0.600      -0.232       0.400\n",
       "per_school_awareness_2013    -0.0843      0.057     -1.475      0.142      -0.197       0.029\n",
       "per_media_awareness_2013      0.2513      0.135      1.858      0.065      -0.016       0.519\n",
       "per_sub_counselling_2013     -0.0064      0.221     -0.029      0.977      -0.444       0.431\n",
       "london_borough                0.1365      0.015      8.919      0.000       0.106       0.167\n",
       "metropolitan_borough          0.0329      0.015      2.209      0.029       0.003       0.062\n",
       "non_metropolitan_county      -0.0002      0.016     -0.012      0.991      -0.032       0.032\n",
       "==============================================================================\n",
       "Omnibus:                        8.728   Durbin-Watson:                   1.820\n",
       "Prob(Omnibus):                  0.013   Jarque-Bera (JB):               17.860\n",
       "Skew:                           0.064   Prob(JB):                     0.000132\n",
       "Kurtosis:                       4.680   Cond. No.                         45.0\n",
       "==============================================================================\n",
       "\n",
       "Notes:\n",
       "[1] Standard Errors assume that the covariance matrix of the errors is correctly specified.\n",
       "\"\"\""
      ]
     },
     "execution_count": 285,
     "metadata": {},
     "output_type": "execute_result"
    }
   ],
   "source": [
    "# we will put all these variables into function\n",
    "#model2 Casechange_i2013 = \n",
    "model2 = sms.OLS(endog=df['Casechange_2018'], exog=sms.add_constant(df_predictors_selected_VIF)).fit()\n",
    "model2.summary()"
   ]
  },
  {
   "cell_type": "code",
   "execution_count": 286,
   "metadata": {},
   "outputs": [
    {
     "data": {
      "image/png": "[encoded data removed]",
      "text/plain": [
       "<Figure size 432x288 with 1 Axes>"
      ]
     },
     "metadata": {
      "needs_background": "light"
     },
     "output_type": "display_data"
    }
   ],
   "source": [
    "# residual analysis\n",
    "figure_width, figure_height = 6,4\n",
    "plt.figure(figsize=(figure_width,figure_height))\n",
    "plt.scatter(model2.fittedvalues, model2.resid)\n",
    "plt.xlabel('Fitted Casechange_2018')\n",
    "plt.ylabel('Residual')\n",
    "plt.savefig('Residual_analysis3')"
   ]
  },
  {
   "cell_type": "code",
   "execution_count": 287,
   "metadata": {},
   "outputs": [
    {
     "data": {
      "text/html": [
       "<table class=\"simpletable\">\n",
       "<caption>OLS Regression Results</caption>\n",
       "<tr>\n",
       "  <th>Dep. Variable:</th>     <td>Casechange_2018</td> <th>  R-squared:         </th> <td>   0.386</td>\n",
       "</tr>\n",
       "<tr>\n",
       "  <th>Model:</th>                   <td>OLS</td>       <th>  Adj. R-squared:    </th> <td>   0.377</td>\n",
       "</tr>\n",
       "<tr>\n",
       "  <th>Method:</th>             <td>Least Squares</td>  <th>  F-statistic:       </th> <td>   46.46</td>\n",
       "</tr>\n",
       "<tr>\n",
       "  <th>Date:</th>             <td>Sat, 14 Nov 2020</td> <th>  Prob (F-statistic):</th> <td>2.19e-16</td>\n",
       "</tr>\n",
       "<tr>\n",
       "  <th>Time:</th>                 <td>16:26:59</td>     <th>  Log-Likelihood:    </th> <td>  192.06</td>\n",
       "</tr>\n",
       "<tr>\n",
       "  <th>No. Observations:</th>      <td>   151</td>      <th>  AIC:               </th> <td>  -378.1</td>\n",
       "</tr>\n",
       "<tr>\n",
       "  <th>Df Residuals:</th>          <td>   148</td>      <th>  BIC:               </th> <td>  -369.1</td>\n",
       "</tr>\n",
       "<tr>\n",
       "  <th>Df Model:</th>              <td>     2</td>      <th>                     </th>     <td> </td>   \n",
       "</tr>\n",
       "<tr>\n",
       "  <th>Covariance Type:</th>      <td>nonrobust</td>    <th>                     </th>     <td> </td>   \n",
       "</tr>\n",
       "</table>\n",
       "<table class=\"simpletable\">\n",
       "<tr>\n",
       "            <td></td>              <th>coef</th>     <th>std err</th>      <th>t</th>      <th>P>|t|</th>  <th>[0.025</th>    <th>0.975]</th>  \n",
       "</tr>\n",
       "<tr>\n",
       "  <th>const</th>                <td>    0.0480</td> <td>    0.008</td> <td>    6.380</td> <td> 0.000</td> <td>    0.033</td> <td>    0.063</td>\n",
       "</tr>\n",
       "<tr>\n",
       "  <th>london_borough</th>       <td>    0.1374</td> <td>    0.014</td> <td>    9.635</td> <td> 0.000</td> <td>    0.109</td> <td>    0.166</td>\n",
       "</tr>\n",
       "<tr>\n",
       "  <th>metropolitan_borough</th> <td>    0.0346</td> <td>    0.014</td> <td>    2.528</td> <td> 0.013</td> <td>    0.008</td> <td>    0.062</td>\n",
       "</tr>\n",
       "</table>\n",
       "<table class=\"simpletable\">\n",
       "<tr>\n",
       "  <th>Omnibus:</th>       <td>12.630</td> <th>  Durbin-Watson:     </th> <td>   1.824</td>\n",
       "</tr>\n",
       "<tr>\n",
       "  <th>Prob(Omnibus):</th> <td> 0.002</td> <th>  Jarque-Bera (JB):  </th> <td>  30.840</td>\n",
       "</tr>\n",
       "<tr>\n",
       "  <th>Skew:</th>          <td> 0.213</td> <th>  Prob(JB):          </th> <td>2.01e-07</td>\n",
       "</tr>\n",
       "<tr>\n",
       "  <th>Kurtosis:</th>      <td> 5.173</td> <th>  Cond. No.          </th> <td>    3.17</td>\n",
       "</tr>\n",
       "</table><br/><br/>Notes:<br/>[1] Standard Errors assume that the covariance matrix of the errors is correctly specified."
      ],
      "text/plain": [
       "<class 'statsmodels.iolib.summary.Summary'>\n",
       "\"\"\"\n",
       "                            OLS Regression Results                            \n",
       "==============================================================================\n",
       "Dep. Variable:        Casechange_2018   R-squared:                       0.386\n",
       "Model:                            OLS   Adj. R-squared:                  0.377\n",
       "Method:                 Least Squares   F-statistic:                     46.46\n",
       "Date:                Sat, 14 Nov 2020   Prob (F-statistic):           2.19e-16\n",
       "Time:                        16:26:59   Log-Likelihood:                 192.06\n",
       "No. Observations:                 151   AIC:                            -378.1\n",
       "Df Residuals:                     148   BIC:                            -369.1\n",
       "Df Model:                           2                                         \n",
       "Covariance Type:            nonrobust                                         \n",
       "========================================================================================\n",
       "                           coef    std err          t      P>|t|      [0.025      0.975]\n",
       "----------------------------------------------------------------------------------------\n",
       "const                    0.0480      0.008      6.380      0.000       0.033       0.063\n",
       "london_borough           0.1374      0.014      9.635      0.000       0.109       0.166\n",
       "metropolitan_borough     0.0346      0.014      2.528      0.013       0.008       0.062\n",
       "==============================================================================\n",
       "Omnibus:                       12.630   Durbin-Watson:                   1.824\n",
       "Prob(Omnibus):                  0.002   Jarque-Bera (JB):               30.840\n",
       "Skew:                           0.213   Prob(JB):                     2.01e-07\n",
       "Kurtosis:                       5.173   Cond. No.                         3.17\n",
       "==============================================================================\n",
       "\n",
       "Notes:\n",
       "[1] Standard Errors assume that the covariance matrix of the errors is correctly specified.\n",
       "\"\"\""
      ]
     },
     "execution_count": 287,
     "metadata": {},
     "output_type": "execute_result"
    }
   ],
   "source": [
    "#stepwise regression\n",
    "#model2 Casechange_i2013 = \n",
    "model2_stepwise = sms.OLS(endog=df['Casechange_2018'], exog=sms.add_constant(df[['london_borough','metropolitan_borough']])).fit()\n",
    "model2_stepwise.summary()"
   ]
  }
 ],
 "metadata": {
  "kernelspec": {
   "display_name": "Python 3",
   "language": "python",
   "name": "python3"
  },
  "language_info": {
   "codemirror_mode": {
    "name": "ipython",
    "version": 3
   },
   "file_extension": ".py",
   "mimetype": "text/x-python",
   "name": "python",
   "nbconvert_exporter": "python",
   "pygments_lexer": "ipython3",
   "version": "3.7.8"
  }
 },
 "nbformat": 4,
 "nbformat_minor": 4
}
